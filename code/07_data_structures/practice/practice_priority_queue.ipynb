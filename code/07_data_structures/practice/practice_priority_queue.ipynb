{
 "cells": [
  {
   "cell_type": "code",
   "execution_count": 6,
   "id": "08eeab40",
   "metadata": {},
   "outputs": [
    {
     "name": "stdout",
     "output_type": "stream",
     "text": [
      "['Id', 'Name', 'Year', 'Gender', 'State', 'Count']\n",
      "Created dictionary with 30274 names\n",
      "(-4957160, 'James')\n",
      "(-4845407, 'John')\n",
      "(-4725708, 'Robert')\n",
      "(-4312970, 'Michael')\n",
      "(-3839232, 'William')\n",
      "30269\n"
     ]
    }
   ],
   "source": [
    "import csv\n",
    "import queue\n",
    "\n",
    "names = { }\n",
    "pq = queue.PriorityQueue()\n",
    "\n",
    "with open('../../data/names.csv', 'r', newline='', encoding='utf-8') as file:\n",
    "    reader = csv.reader(file, delimiter=',', quotechar='\"')\n",
    "    count = 0\n",
    "    for row in reader:\n",
    "        count += 1\n",
    "        if count == 1:\n",
    "            print(row)\n",
    "            continue\n",
    "           \n",
    "        name = row[1]\n",
    "        if name in names:\n",
    "            names[name] = names[name] + int(row[5])\n",
    "        else:\n",
    "            names[name] = 1\n",
    "            \n",
    "    print(f'Created dictionary with {len(names)} names')\n",
    "    \n",
    "    for name, prio in names.items():\n",
    "        pq.put((-prio, name))\n",
    "        \n",
    "for i in range(0,5):\n",
    "    print(pq.get())\n",
    "    \n",
    "print(pq.qsize())"
   ]
  },
  {
   "cell_type": "code",
   "execution_count": null,
   "id": "6564aa92",
   "metadata": {},
   "outputs": [],
   "source": []
  }
 ],
 "metadata": {
  "kernelspec": {
   "display_name": "Python 3",
   "language": "python",
   "name": "python3"
  },
  "language_info": {
   "codemirror_mode": {
    "name": "ipython",
    "version": 3
   },
   "file_extension": ".py",
   "mimetype": "text/x-python",
   "name": "python",
   "nbconvert_exporter": "python",
   "pygments_lexer": "ipython3",
   "version": "3.8.8"
  }
 },
 "nbformat": 4,
 "nbformat_minor": 5
}
