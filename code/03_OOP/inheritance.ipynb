{
 "cells": [
  {
   "cell_type": "code",
   "execution_count": 11,
   "metadata": {},
   "outputs": [
    {
     "name": "stdout",
     "output_type": "stream",
     "text": [
      "Max Müller - Fantastico GmbH\n",
      "Monika Mustermann\n",
      "Erik Maier\n",
      "Franziska Gundermann - XCZY AG & Co. KG\n"
     ]
    }
   ],
   "source": [
    "class Student():        \n",
    "    def __init__(self, firstname, surname):\n",
    "        self.firstname = firstname\n",
    "        self.surname = surname\n",
    "    \n",
    "    def name(self):\n",
    "        return self.firstname + \" \" + self.surname\n",
    "    \n",
    "class WorkingStudent(Student):\n",
    "    def __init__(self, firstname, surname, company):\n",
    "        super().__init__(firstname, surname)\n",
    "        self.company = company\n",
    "        \n",
    "    def name(self):\n",
    "        return super().name() + \" - \" + self.company\n",
    "    \n",
    "students =  [ \n",
    "    WorkingStudent(\"Max\", \"Müller\", \"Fantastico GmbH\"),\n",
    "    Student(\"Monika\", \"Mustermann\"),\n",
    "    Student(\"Erik\", \"Maier\"),\n",
    "    WorkingStudent(\"Franziska\", \"Gundermann\", \"XCZY AG & Co. KG\")\n",
    "]\n",
    "\n",
    "for student in students:\n",
    "    print(student.name())\n",
    "\n"
   ]
  },
  {
   "cell_type": "code",
   "execution_count": null,
   "metadata": {},
   "outputs": [],
   "source": []
  }
 ],
 "metadata": {
  "kernelspec": {
   "display_name": "Python 3",
   "language": "python",
   "name": "python3"
  },
  "language_info": {
   "codemirror_mode": {
    "name": "ipython",
    "version": 3
   },
   "file_extension": ".py",
   "mimetype": "text/x-python",
   "name": "python",
   "nbconvert_exporter": "python",
   "pygments_lexer": "ipython3",
   "version": "3.8.5"
  }
 },
 "nbformat": 4,
 "nbformat_minor": 4
}
