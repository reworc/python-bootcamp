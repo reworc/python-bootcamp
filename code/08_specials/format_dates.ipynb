{
 "cells": [
  {
   "cell_type": "code",
   "execution_count": 33,
   "id": "30176819",
   "metadata": {},
   "outputs": [],
   "source": [
    "from datetime import datetime, timedelta\n",
    "\n",
    "now = datetime.now()"
   ]
  },
  {
   "cell_type": "code",
   "execution_count": 34,
   "id": "ad1da7bf",
   "metadata": {},
   "outputs": [
    {
     "data": {
      "text/plain": [
       "'27.05.2021'"
      ]
     },
     "execution_count": 34,
     "metadata": {},
     "output_type": "execute_result"
    }
   ],
   "source": [
    "now.strftime(\"%d.%m.%Y\")"
   ]
  },
  {
   "cell_type": "code",
   "execution_count": 35,
   "id": "21abdbb4",
   "metadata": {},
   "outputs": [
    {
     "name": "stdout",
     "output_type": "stream",
     "text": [
      "2021-05-18 00:00:00\n"
     ]
    }
   ],
   "source": [
    "d = \"18.05.2021\"\n",
    "dt = datetime.strptime(d, \"%d.%m.%Y\")\n",
    "print(dt)"
   ]
  },
  {
   "cell_type": "code",
   "execution_count": 36,
   "id": "cb40cc7d",
   "metadata": {},
   "outputs": [
    {
     "data": {
      "text/plain": [
       "'Thursday, 27th of May'"
      ]
     },
     "execution_count": 36,
     "metadata": {},
     "output_type": "execute_result"
    }
   ],
   "source": [
    "now.strftime(\"%A, %dth of %B\")"
   ]
  },
  {
   "cell_type": "code",
   "execution_count": 37,
   "id": "a9659408",
   "metadata": {},
   "outputs": [
    {
     "name": "stdout",
     "output_type": "stream",
     "text": [
      "2021-05-11 14:55:08.419000\n"
     ]
    }
   ],
   "source": [
    "d = \"2021-05-11T14:55:08.419Z\"\n",
    "dt = datetime.strptime(d, \"%Y-%m-%dT%H:%M:%S.%fZ\")\n",
    "print(dt)"
   ]
  },
  {
   "cell_type": "code",
   "execution_count": 38,
   "id": "e129de50",
   "metadata": {},
   "outputs": [
    {
     "name": "stdout",
     "output_type": "stream",
     "text": [
      "-1 day, 22:00:00\n"
     ]
    }
   ],
   "source": [
    "delta = timedelta(hours = -2)\n",
    "print(delta)"
   ]
  },
  {
   "cell_type": "code",
   "execution_count": 39,
   "id": "72acd568",
   "metadata": {},
   "outputs": [
    {
     "name": "stdout",
     "output_type": "stream",
     "text": [
      "2021-05-11 14:55:08.413120\n"
     ]
    }
   ],
   "source": [
    "# .NET timestamp uses ticks - with 1 tick = 10 microseconds\n",
    "net_timestamp = 637563489084131200\n",
    "start_dt = datetime(1,1,1)\n",
    "dt_ts = start_dt + timedelta(microseconds = net_timestamp / 10) + delta\n",
    "print(dt_ts)"
   ]
  },
  {
   "cell_type": "code",
   "execution_count": null,
   "id": "ad7b6a52",
   "metadata": {},
   "outputs": [],
   "source": []
  }
 ],
 "metadata": {
  "kernelspec": {
   "display_name": "Python 3",
   "language": "python",
   "name": "python3"
  },
  "language_info": {
   "codemirror_mode": {
    "name": "ipython",
    "version": 3
   },
   "file_extension": ".py",
   "mimetype": "text/x-python",
   "name": "python",
   "nbconvert_exporter": "python",
   "pygments_lexer": "ipython3",
   "version": "3.8.8"
  }
 },
 "nbformat": 4,
 "nbformat_minor": 5
}
