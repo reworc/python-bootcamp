{
 "cells": [
  {
   "cell_type": "code",
   "execution_count": 19,
   "id": "a485e36e",
   "metadata": {},
   "outputs": [
    {
     "name": "stdout",
     "output_type": "stream",
     "text": [
      "normal ditionaries throw an KeyError if key does not exist..\n",
      "generate() wurde aufgerufen!\n",
      "5\n",
      "defaultdict(<function generate at 0x000002C3176B4DC0>, {'existiert_nicht': 5})\n"
     ]
    }
   ],
   "source": [
    "from collections import defaultdict\n",
    "\n",
    "def generate():\n",
    "    print(\"generate() wurde aufgerufen!\")\n",
    "    return 0\n",
    "\n",
    "d = defaultdict(generate)\n",
    "\n",
    "normal_dict = {}\n",
    "\n",
    "try:\n",
    "    print(normal_dict[\"existiert_nicht\"])\n",
    "except Exception as e:\n",
    "    print(f\"normal ditionaries throw an {type(e).__name__} if key does not exist..\")\n",
    "\n",
    "d[\"existiert_nicht\"] = d[\"existiert_nicht\"] + 5\n",
    "    \n",
    "print(d[\"existiert_nicht\"])\n",
    "print(d)"
   ]
  },
  {
   "cell_type": "code",
   "execution_count": 31,
   "id": "ba7ae0cb",
   "metadata": {},
   "outputs": [
    {
     "name": "stdout",
     "output_type": "stream",
     "text": [
      "defaultdict(<class 'int'>, {'Hallo': 2, 'Welt': 1})\n"
     ]
    }
   ],
   "source": [
    "p = defaultdict(int)\n",
    "words = [\"Hallo\", \"Hallo\", \"Welt\"]\n",
    "\n",
    "for word in words:\n",
    "    p[word] += 1\n",
    "\n",
    "print(p)"
   ]
  },
  {
   "cell_type": "code",
   "execution_count": 32,
   "id": "f79fabc3",
   "metadata": {},
   "outputs": [
    {
     "name": "stdout",
     "output_type": "stream",
     "text": [
      "('Hallo', 2)\n"
     ]
    }
   ],
   "source": [
    "def sort_dict(elem):\n",
    "    print(elem[1])\n",
    "    return elem[1]\n",
    "\n",
    "# sorted_d = sorted(p.items(), key=sort_dict, reverse=True)\n",
    "sorted_d = sorted(p.items(), key= lambda elem: -elem[1])\n",
    "print(sorted_d[0])"
   ]
  },
  {
   "cell_type": "code",
   "execution_count": null,
   "id": "4389ada0",
   "metadata": {},
   "outputs": [],
   "source": []
  }
 ],
 "metadata": {
  "kernelspec": {
   "display_name": "Python 3",
   "language": "python",
   "name": "python3"
  },
  "language_info": {
   "codemirror_mode": {
    "name": "ipython",
    "version": 3
   },
   "file_extension": ".py",
   "mimetype": "text/x-python",
   "name": "python",
   "nbconvert_exporter": "python",
   "pygments_lexer": "ipython3",
   "version": "3.8.8"
  }
 },
 "nbformat": 4,
 "nbformat_minor": 5
}
