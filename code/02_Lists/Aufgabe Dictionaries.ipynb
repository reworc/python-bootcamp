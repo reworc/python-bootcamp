{
 "cells": [
  {
   "cell_type": "markdown",
   "metadata": {},
   "source": [
    "## Aufgabe: Dictionaries"
   ]
  },
  {
   "cell_type": "markdown",
   "metadata": {},
   "source": [
    "**Aufgabe:**\n",
    "\n",
    "Lese die ../data/names.csv - Datei ein und berechne, welcher Name insgesamt in den gesamten USA am häufigsten vergeben wurde. \n",
    "\n",
    "**Tipps**:\n",
    "\n",
    "- Lies zuerst die Daten in ein Dictionary ein und zähle, wie oft jeder Vorname insgesamt vorgekommen ist.\n",
    "- Analysiere dann erst das Dictionary und finde den häufigsten Vornamen heraus.\n",
    "- Achte drauf, wenn du 2 Zahlen addieren möchtest, musst du ggf. einen String zuerst in eine Zahl umwandeln.\n",
    "- Schreibe den gesamten Code, der die Datei öffnet und durchgeht, in einer Zelle."
   ]
  },
  {
   "cell_type": "code",
   "execution_count": 43,
   "metadata": {},
   "outputs": [],
   "source": [
    "names = { }\n",
    "def retrieve_data(str_input):\n",
    "     data = str_input.strip().split(\",\")\n",
    "     return (data[1], data[5])\n",
    "\n",
    "def addForName(name, count): \n",
    "    c = int(count)\n",
    "    if name in names:\n",
    "        c = names[name] + c\n",
    "    names[name] = c\n",
    "    \n",
    "def max_occurrences(dict):\n",
    "    k = \"\"\n",
    "    c = 0\n",
    "    for key, value in dict.items():\n",
    "        if value > c:\n",
    "            c = value\n",
    "            k = key\n",
    "    \n",
    "    return (k, c)    "
   ]
  },
  {
   "cell_type": "code",
   "execution_count": 44,
   "metadata": {},
   "outputs": [
    {
     "name": "stdout",
     "output_type": "stream",
     "text": [
      "('James', 4957166)\n"
     ]
    }
   ],
   "source": [
    "with open(\"../data/names.csv\", \"r\") as file:\n",
    "    for item in file:\n",
    "        tpl = retrieve_data(item)\n",
    "        if (tpl[0] == \"Name\"):            \n",
    "            continue        \n",
    "        addForName(tpl[0], tpl[1])\n",
    "\n",
    "# maximum = max(names, key=names.get)\n",
    "# print(maximum + \": \" + str(names[maximum]))\n",
    "\n",
    "maximum = max_occurrences(names)\n",
    "print(maximum)"
   ]
  },
  {
   "cell_type": "code",
   "execution_count": null,
   "metadata": {
    "collapsed": true
   },
   "outputs": [],
   "source": []
  }
 ],
 "metadata": {
  "kernelspec": {
   "display_name": "Python 3",
   "language": "python",
   "name": "python3"
  },
  "language_info": {
   "codemirror_mode": {
    "name": "ipython",
    "version": 3
   },
   "file_extension": ".py",
   "mimetype": "text/x-python",
   "name": "python",
   "nbconvert_exporter": "python",
   "pygments_lexer": "ipython3",
   "version": "3.8.5"
  }
 },
 "nbformat": 4,
 "nbformat_minor": 2
}
