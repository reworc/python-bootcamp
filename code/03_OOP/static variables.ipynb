{
 "cells": [
  {
   "cell_type": "code",
   "execution_count": 5,
   "metadata": {},
   "outputs": [
    {
     "name": "stdout",
     "output_type": "stream",
     "text": [
      "expensive\n",
      "expensive\n",
      "cheap\n",
      "cheap\n",
      "moderate\n",
      "cheap\n"
     ]
    }
   ],
   "source": [
    "class Car:\n",
    "    price = \"expensive\"\n",
    "        \n",
    "c1 = Car()\n",
    "c2 = Car()\n",
    "\n",
    "print(c1.price)\n",
    "print(c2.price)\n",
    "\n",
    "Car.price = \"cheap\"\n",
    "\n",
    "print(c1.price)\n",
    "print(c2.price)\n",
    "\n",
    "c1.price = \"moderate\"\n",
    "\n",
    "print(c1.price)\n",
    "print(c2.price)"
   ]
  },
  {
   "cell_type": "code",
   "execution_count": 7,
   "metadata": {},
   "outputs": [
    {
     "name": "stdout",
     "output_type": "stream",
     "text": [
      "cheap\n"
     ]
    }
   ],
   "source": [
    "c3 = Car()\n",
    "print(c3.price)"
   ]
  },
  {
   "cell_type": "code",
   "execution_count": 8,
   "metadata": {},
   "outputs": [
    {
     "name": "stdout",
     "output_type": "stream",
     "text": [
      "moderate\n",
      "mäh\n"
     ]
    }
   ],
   "source": [
    "Car.price = \"mäh\"\n",
    "print(c1.price)\n",
    "print(c2.price)"
   ]
  },
  {
   "cell_type": "code",
   "execution_count": null,
   "metadata": {},
   "outputs": [],
   "source": []
  }
 ],
 "metadata": {
  "kernelspec": {
   "display_name": "Python 3",
   "language": "python",
   "name": "python3"
  },
  "language_info": {
   "codemirror_mode": {
    "name": "ipython",
    "version": 3
   },
   "file_extension": ".py",
   "mimetype": "text/x-python",
   "name": "python",
   "nbconvert_exporter": "python",
   "pygments_lexer": "ipython3",
   "version": "3.8.5"
  }
 },
 "nbformat": 4,
 "nbformat_minor": 4
}
