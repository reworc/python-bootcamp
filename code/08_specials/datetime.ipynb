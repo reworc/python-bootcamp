{
 "cells": [
  {
   "cell_type": "code",
   "execution_count": 1,
   "id": "3613548f",
   "metadata": {},
   "outputs": [
    {
     "name": "stdout",
     "output_type": "stream",
     "text": [
      "2021-05-18 18:42:55.996775\n"
     ]
    }
   ],
   "source": [
    "from datetime import datetime\n",
    "\n",
    "now = datetime.now()\n",
    "print(now)"
   ]
  },
  {
   "cell_type": "code",
   "execution_count": 2,
   "id": "f60524f0",
   "metadata": {},
   "outputs": [
    {
     "name": "stdout",
     "output_type": "stream",
     "text": [
      "2017-08-20 20:00:00\n"
     ]
    }
   ],
   "source": [
    "day = datetime(2017,8,20,20,0,0)\n",
    "print(day)"
   ]
  },
  {
   "cell_type": "code",
   "execution_count": 4,
   "id": "8ede3dd1",
   "metadata": {},
   "outputs": [
    {
     "name": "stdout",
     "output_type": "stream",
     "text": [
      "2017\n",
      "8\n",
      "20\n",
      "20\n",
      "0\n",
      "0\n"
     ]
    }
   ],
   "source": [
    "print(day.year)\n",
    "print(day.month)\n",
    "print(day.day)\n",
    "print(day.hour)\n",
    "print(day.minute)\n",
    "print(day.second)"
   ]
  },
  {
   "cell_type": "code",
   "execution_count": 7,
   "id": "b3458687",
   "metadata": {},
   "outputs": [
    {
     "name": "stdout",
     "output_type": "stream",
     "text": [
      "1503252000.0\n"
     ]
    }
   ],
   "source": [
    "print(day.timestamp())"
   ]
  },
  {
   "cell_type": "code",
   "execution_count": 8,
   "id": "101fa5d5",
   "metadata": {},
   "outputs": [
    {
     "name": "stdout",
     "output_type": "stream",
     "text": [
      "1366 days, 22:48:16.923331\n"
     ]
    }
   ],
   "source": [
    "print(datetime.now() - day)"
   ]
  },
  {
   "cell_type": "code",
   "execution_count": 10,
   "id": "cb319555",
   "metadata": {},
   "outputs": [
    {
     "name": "stdout",
     "output_type": "stream",
     "text": [
      "2017-08-21\n",
      "20:15:32\n"
     ]
    }
   ],
   "source": [
    "from datetime import date, time \n",
    "\n",
    "d = date(2017,8,21)\n",
    "print(d)\n",
    "t = time (20,15,32)\n",
    "print(t)"
   ]
  },
  {
   "cell_type": "code",
   "execution_count": 11,
   "id": "7fbc0f3c",
   "metadata": {},
   "outputs": [
    {
     "name": "stdout",
     "output_type": "stream",
     "text": [
      "True\n"
     ]
    }
   ],
   "source": [
    "print(date(2017, 8, 20) < date(2017, 9, 15))"
   ]
  },
  {
   "cell_type": "code",
   "execution_count": 13,
   "id": "52842574",
   "metadata": {},
   "outputs": [
    {
     "name": "stdout",
     "output_type": "stream",
     "text": [
      "2017-08-20\n",
      "20:00:00\n"
     ]
    }
   ],
   "source": [
    "print(day.date())\n",
    "print(day.time())"
   ]
  },
  {
   "cell_type": "code",
   "execution_count": 14,
   "id": "be4c9faa",
   "metadata": {},
   "outputs": [],
   "source": [
    "dt = datetime.combine(d,t)"
   ]
  },
  {
   "cell_type": "code",
   "execution_count": 15,
   "id": "deab11c8",
   "metadata": {},
   "outputs": [
    {
     "name": "stdout",
     "output_type": "stream",
     "text": [
      "2017-08-21 20:15:32\n"
     ]
    }
   ],
   "source": [
    "print(dt)"
   ]
  },
  {
   "cell_type": "code",
   "execution_count": null,
   "id": "29c29dc0",
   "metadata": {},
   "outputs": [],
   "source": [
    " "
   ]
  }
 ],
 "metadata": {
  "kernelspec": {
   "display_name": "Python 3",
   "language": "python",
   "name": "python3"
  },
  "language_info": {
   "codemirror_mode": {
    "name": "ipython",
    "version": 3
   },
   "file_extension": ".py",
   "mimetype": "text/x-python",
   "name": "python",
   "nbconvert_exporter": "python",
   "pygments_lexer": "ipython3",
   "version": "3.8.8"
  }
 },
 "nbformat": 4,
 "nbformat_minor": 5
}
