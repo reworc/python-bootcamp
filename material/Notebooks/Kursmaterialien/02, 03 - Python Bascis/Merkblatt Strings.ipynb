{
 "cells": [
  {
   "cell_type": "markdown",
   "metadata": {
    "collapsed": true
   },
   "source": [
    "# Strings\n",
    "\n",
    "Wir können in Python nicht nur mit Zahlen, sondern auch mit Zeichenketten, sogenannten **Strings**, arbeiten. Darunter kannst du dir jegliche Abfolgen von Zeichen vorstellen, die in Anführungszeichen stehen. Zum Beispiel ist _\"Hallo\"_ ein String und _\"Hallo Welt\"_ ebenso, aber auch _\"123.2\"_ oder _\"!Achtung!\"_"
   ]
  },
  {
   "cell_type": "markdown",
   "metadata": {},
   "source": [
    "### Allgemeines\n",
    "\n",
    "Auch Strings können wir mit dem print()-Befehl ausgeben."
   ]
  },
  {
   "cell_type": "code",
   "execution_count": 1,
   "metadata": {},
   "outputs": [
    {
     "name": "stdout",
     "output_type": "stream",
     "text": [
      "Hallo Welt\n"
     ]
    }
   ],
   "source": [
    "print(\"Hallo Welt\")"
   ]
  },
  {
   "cell_type": "markdown",
   "metadata": {},
   "source": [
    "Du kannst Strings wie Zahlen in Variablen speichern."
   ]
  },
  {
   "cell_type": "code",
   "execution_count": 2,
   "metadata": {
    "collapsed": true
   },
   "outputs": [],
   "source": [
    "name = \"Max\""
   ]
  },
  {
   "cell_type": "code",
   "execution_count": 3,
   "metadata": {},
   "outputs": [
    {
     "name": "stdout",
     "output_type": "stream",
     "text": [
      "Max\n"
     ]
    }
   ],
   "source": [
    "print(name)"
   ]
  },
  {
   "cell_type": "markdown",
   "metadata": {},
   "source": [
    "### Strings zusammenfügen\n",
    "\n",
    "Du kannst zwei oder mehrere Zeichenketten auch mittels **+** zusammenfügen."
   ]
  },
  {
   "cell_type": "code",
   "execution_count": 4,
   "metadata": {},
   "outputs": [
    {
     "name": "stdout",
     "output_type": "stream",
     "text": [
      "Ich bin: Max\n"
     ]
    }
   ],
   "source": [
    "print(\"Ich bin: \" + \"Max\")"
   ]
  },
  {
   "cell_type": "code",
   "execution_count": 5,
   "metadata": {},
   "outputs": [
    {
     "name": "stdout",
     "output_type": "stream",
     "text": [
      "Ich bin: Max. Und wer bist du?\n"
     ]
    }
   ],
   "source": [
    "print(\"Ich bin: \" + name + \". Und wer bist du?\")"
   ]
  },
  {
   "cell_type": "markdown",
   "metadata": {},
   "source": [
    "Allerdings kommt es zu einer Fehlermeldung, wenn du versuchst, Zahlen und Strings zu addieren:"
   ]
  },
  {
   "cell_type": "code",
   "execution_count": 6,
   "metadata": {},
   "outputs": [
    {
     "ename": "TypeError",
     "evalue": "must be str, not int",
     "output_type": "error",
     "traceback": [
      "\u001b[1;31m---------------------------------------------------------------------------\u001b[0m",
      "\u001b[1;31mTypeError\u001b[0m                                 Traceback (most recent call last)",
      "\u001b[1;32m<ipython-input-6-9794e8874ec9>\u001b[0m in \u001b[0;36m<module>\u001b[1;34m()\u001b[0m\n\u001b[1;32m----> 1\u001b[1;33m \u001b[0mprint\u001b[0m\u001b[1;33m(\u001b[0m\u001b[1;34m\"Ich bin: \"\u001b[0m \u001b[1;33m+\u001b[0m \u001b[1;36m4\u001b[0m\u001b[1;33m)\u001b[0m\u001b[1;33m\u001b[0m\u001b[0m\n\u001b[0m",
      "\u001b[1;31mTypeError\u001b[0m: must be str, not int"
     ]
    }
   ],
   "source": [
    "print(\"Ich bin: \" + 4)"
   ]
  },
  {
   "cell_type": "markdown",
   "metadata": {},
   "source": [
    "### Eine Zahl in einen String umwandeln\n",
    "Du kannst diese Fehler korrigieren, indem du die Zahl in einen String umwandelst. Dazu hast du zwei Möglichkeiten:\n",
    "\n",
    "1.) Du setzt Anführungszeichen um die Zahl und machst sie so zu einem String:"
   ]
  },
  {
   "cell_type": "code",
   "execution_count": 7,
   "metadata": {},
   "outputs": [
    {
     "name": "stdout",
     "output_type": "stream",
     "text": [
      "Ich bin: 4\n"
     ]
    }
   ],
   "source": [
    "print(\"Ich bin: \" + \"4\")"
   ]
  },
  {
   "cell_type": "markdown",
   "metadata": {},
   "source": [
    "2.) Du wandelst die Zahl mit dem **str()**-Befehl in einen String um:"
   ]
  },
  {
   "cell_type": "code",
   "execution_count": 8,
   "metadata": {},
   "outputs": [
    {
     "name": "stdout",
     "output_type": "stream",
     "text": [
      "Ich bin: 22\n"
     ]
    }
   ],
   "source": [
    "age = 22\n",
    "print(\"Ich bin: \" + str(age))"
   ]
  },
  {
   "cell_type": "markdown",
   "metadata": {},
   "source": [
    "**Beachte, dass du mit \"4\" oder str(age) nicht mehr rechnen kannst!**"
   ]
  },
  {
   "cell_type": "markdown",
   "metadata": {
    "collapsed": true
   },
   "source": [
    "### Strings aus einer Liste zu einem String zusammenfügen\n",
    "\n",
    "Mit dem  **join()**-Befehl, der auf einen String angewendet wird, verbinden wir die Strings aus einer Liste zu einem neuen String: **string.join(liste)**\n",
    "\n",
    "Der String, auf den join() angewendet wird, bildet dabei die Nahtstelle: dieser String wird als Verbindung zwischen den einzelnen Listenelementen im neuen String gesetzt."
   ]
  },
  {
   "cell_type": "code",
   "execution_count": 9,
   "metadata": {},
   "outputs": [
    {
     "name": "stdout",
     "output_type": "stream",
     "text": [
      "Max, Monika, Erik, Franziska\n"
     ]
    }
   ],
   "source": [
    "students = [\"Max\", \"Monika\", \"Erik\", \"Franziska\"]\n",
    "print(\", \".join(students))"
   ]
  },
  {
   "cell_type": "code",
   "execution_count": 10,
   "metadata": {},
   "outputs": [
    {
     "name": "stdout",
     "output_type": "stream",
     "text": [
      "An unserer Uni studieren: Max, Monika, Erik, Franziska\n"
     ]
    }
   ],
   "source": [
    "students_as_string = \", \".join(students)\n",
    "print(\"An unserer Uni studieren: \" + students_as_string)"
   ]
  },
  {
   "cell_type": "code",
   "execution_count": 11,
   "metadata": {},
   "outputs": [
    {
     "name": "stdout",
     "output_type": "stream",
     "text": [
      "Max - Monika - Erik - Franziska\n"
     ]
    }
   ],
   "source": [
    "students = [\"Max\", \"Monika\", \"Erik\", \"Franziska\"]\n",
    "print(\" - \".join(students))"
   ]
  },
  {
   "cell_type": "markdown",
   "metadata": {},
   "source": [
    "### Einen String in eine Liste aufspalten\n",
    "\n",
    "Mit dem **split()**-Befehl, der auf einen String angewendet wird, wird dieser String an seinen Leerzeichen aufgespalten, und die daraus resultierenden Einzelstrings in einer Liste gespeichert: **string.split()**"
   ]
  },
  {
   "cell_type": "code",
   "execution_count": 12,
   "metadata": {
    "collapsed": true
   },
   "outputs": [],
   "source": [
    "i = \"Max, Monika, Erik, Franziska\""
   ]
  },
  {
   "cell_type": "code",
   "execution_count": 13,
   "metadata": {},
   "outputs": [
    {
     "name": "stdout",
     "output_type": "stream",
     "text": [
      "['Max,', 'Monika,', 'Erik,', 'Franziska']\n"
     ]
    }
   ],
   "source": [
    "print(i.split())"
   ]
  },
  {
   "cell_type": "code",
   "execution_count": 14,
   "metadata": {},
   "outputs": [
    {
     "name": "stdout",
     "output_type": "stream",
     "text": [
      "['Max', 'Monika', 'Erik', 'Franziska']\n"
     ]
    }
   ],
   "source": [
    "print(i.split(\", \"))"
   ]
  },
  {
   "cell_type": "code",
   "execution_count": 15,
   "metadata": {},
   "outputs": [
    {
     "name": "stdout",
     "output_type": "stream",
     "text": [
      "['M', 'x, Monik', ', Erik, Fr', 'nzisk', '']\n"
     ]
    }
   ],
   "source": [
    "print(i.split(\"a\"))"
   ]
  },
  {
   "cell_type": "markdown",
   "metadata": {},
   "source": [
    "Insbesondere können wir auch mehrere Befehle, die wir schon kennen gelernt haben, miteinander kombinieren:"
   ]
  },
  {
   "cell_type": "code",
   "execution_count": 16,
   "metadata": {},
   "outputs": [
    {
     "name": "stdout",
     "output_type": "stream",
     "text": [
      "7\n"
     ]
    }
   ],
   "source": [
    "# Hier zählen wir die Anzahl der Wörter des Satzes s\n",
    "\n",
    "s = \"Ich bin ein Satz mit vielen Wörtern\"\n",
    "print(len(s.split()))"
   ]
  }
 ],
 "metadata": {
  "kernelspec": {
   "display_name": "Python 3",
   "language": "python",
   "name": "python3"
  },
  "language_info": {
   "codemirror_mode": {
    "name": "ipython",
    "version": 3
   },
   "file_extension": ".py",
   "mimetype": "text/x-python",
   "name": "python",
   "nbconvert_exporter": "python",
   "pygments_lexer": "ipython3",
   "version": "3.6.3"
  }
 },
 "nbformat": 4,
 "nbformat_minor": 2
}
