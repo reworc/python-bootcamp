{
 "cells": [
  {
   "cell_type": "code",
   "execution_count": 1,
   "id": "4e4d2474",
   "metadata": {},
   "outputs": [
    {
     "name": "stdout",
     "output_type": "stream",
     "text": [
      "{1, 5, 9, 7}\n",
      "{1, 5, 9, 7}\n"
     ]
    }
   ],
   "source": [
    "s = { 1, 7, 5, 9 }\n",
    "print(s)\n",
    "s.add(5)\n",
    "print(s)"
   ]
  },
  {
   "cell_type": "code",
   "execution_count": 7,
   "id": "97baaba7",
   "metadata": {},
   "outputs": [
    {
     "name": "stdout",
     "output_type": "stream",
     "text": [
      "{'tempor', 'takimata', 'eirmod', 'sea', 'voluptua', 'sit', 'magna', 'clita', 'justo', 'gubergren', 'diam', 'Stet', 'ipsum', 'ea', 'vero', 'dolores', 'consetetur', 'duo', 'accusam', 'elitr', 'erat', 'kasd', 'est', 'no', 'dolor', 'amet', 'At', 'invidunt', 'dolore', 'rebum', 'aliquyam', 'eos', 'et', 'sanctus', 'sadipscing', 'ut', 'sed', 'Lorem', 'labore', 'nonumy'}\n",
      "40\n"
     ]
    }
   ],
   "source": [
    "text = \"Lorem ipsum dolor sit amet, consetetur sadipscing elitr, sed diam nonumy eirmod tempor invidunt ut labore et dolore magna aliquyam erat, sed diam voluptua. At vero eos et accusam et justo duo dolores et ea rebum. Stet clita kasd gubergren, no sea takimata sanctus est Lorem ipsum dolor sit amet. Lorem ipsum dolor sit amet, consetetur sadipscing elitr, sed diam nonumy eirmod tempor invidunt ut labore et dolore magna aliquyam erat, sed diam voluptua. At vero eos et accusam et justo duo dolores et ea rebum. Stet clita kasd gubergren, no sea takimata sanctus est Lorem ipsum dolor sit amet.\"\n",
    "words = set()\n",
    "for word in text.replace(',', '').replace('.', '').split(\" \"):\n",
    "    words.add(word)\n",
    "    \n",
    "print(words)\n",
    "print(len(words))"
   ]
  },
  {
   "cell_type": "code",
   "execution_count": null,
   "id": "dd216f1e",
   "metadata": {},
   "outputs": [],
   "source": []
  }
 ],
 "metadata": {
  "kernelspec": {
   "display_name": "Python 3",
   "language": "python",
   "name": "python3"
  },
  "language_info": {
   "codemirror_mode": {
    "name": "ipython",
    "version": 3
   },
   "file_extension": ".py",
   "mimetype": "text/x-python",
   "name": "python",
   "nbconvert_exporter": "python",
   "pygments_lexer": "ipython3",
   "version": "3.8.8"
  }
 },
 "nbformat": 4,
 "nbformat_minor": 5
}
