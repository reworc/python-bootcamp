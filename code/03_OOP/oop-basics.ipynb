{
 "cells": [
  {
   "cell_type": "code",
   "execution_count": 20,
   "metadata": {},
   "outputs": [
    {
     "name": "stdout",
     "output_type": "stream",
     "text": [
      "Erik Mustermann\n",
      "Monika Müller\n"
     ]
    }
   ],
   "source": [
    "class Student_old():    \n",
    "    def get_name(self):\n",
    "        print(self.firstname + \" \" + self.lastname)\n",
    "\n",
    "erik = Student_old()\n",
    "erik.firstname = \"Erik\"\n",
    "erik.lastname = \"Mustermann\"\n",
    "\n",
    "erik.get_name()\n",
    "\n",
    "monika = Student_old()\n",
    "monika.firstname = \"Monika\"\n",
    "monika.lastname = \"Müller\"\n",
    "monika.get_name()\n"
   ]
  },
  {
   "cell_type": "code",
   "execution_count": 21,
   "metadata": {},
   "outputs": [
    {
     "name": "stdout",
     "output_type": "stream",
     "text": [
      "Max Müller GmbH\n"
     ]
    }
   ],
   "source": [
    "class Company_old():\n",
    "\n",
    "    def get_name(self):\n",
    "        print(self.legal_name + \" \" + self.legal_type)\n",
    "    \n",
    "c = Company_old()\n",
    "c.legal_name = \"Max Müller\"\n",
    "c.legal_type = \"GmbH\"\n",
    "\n",
    "c.get_name()"
   ]
  },
  {
   "cell_type": "code",
   "execution_count": 3,
   "metadata": {},
   "outputs": [
    {
     "name": "stdout",
     "output_type": "stream",
     "text": [
      "Erik Mustermann(2)\n",
      "2\n",
      "Monika Müller(1)\n"
     ]
    }
   ],
   "source": [
    "class Student():        \n",
    "    def __init__(self, firstname, lastname):\n",
    "        self.firstname = firstname\n",
    "        self.lastname = lastname        \n",
    "        self.__term = 1                # private variable\n",
    "        \n",
    "    def increase_term(self):\n",
    "        if self.__term >= 9:\n",
    "            return\n",
    "        self.__term += 1\n",
    "    \n",
    "    def get_name(self):\n",
    "        print(self.firstname + \" \" + self.lastname + \"(\" + str(self.get_term()) + \")\")\n",
    "        \n",
    "    def get_term(self):\n",
    "        return self.__term\n",
    "    \n",
    "    def __do_something(self):\n",
    "        print(\"something private\")\n",
    "\n",
    "erik = Student(\"Erik\", \"Mustermann\")\n",
    "erik.increase_term()\n",
    "erik.get_name()\n",
    "\n",
    "print(erik.get_term())\n",
    "\n",
    "monika = Student(\"Monika\", \"Müller\")\n",
    "monika.get_name()"
   ]
  },
  {
   "cell_type": "code",
   "execution_count": null,
   "metadata": {},
   "outputs": [],
   "source": []
  }
 ],
 "metadata": {
  "kernelspec": {
   "display_name": "Python 3",
   "language": "python",
   "name": "python3"
  },
  "language_info": {
   "codemirror_mode": {
    "name": "ipython",
    "version": 3
   },
   "file_extension": ".py",
   "mimetype": "text/x-python",
   "name": "python",
   "nbconvert_exporter": "python",
   "pygments_lexer": "ipython3",
   "version": "3.8.5"
  }
 },
 "nbformat": 4,
 "nbformat_minor": 4
}
