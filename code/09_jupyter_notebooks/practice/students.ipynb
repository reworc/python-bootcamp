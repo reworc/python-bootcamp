{
 "cells": [
  {
   "cell_type": "code",
   "execution_count": 56,
   "id": "ffc617ec",
   "metadata": {},
   "outputs": [],
   "source": [
    "import ipywidgets as widgets\n",
    "from IPython.display import display\n",
    "import pandas as pd\n",
    "import csv\n",
    "\n",
    "values = [\"Vorname\", \"Nachname\", \"Studienfach\"]\n",
    "\n",
    "forename = widgets.Text(description=\"Vorname:\", value=\"Max\")\n",
    "lastname = widgets.Text(description=\"Nachname:\", value=\"Mustermann\")\n",
    "lecture = widgets.Dropdown(                                               # drop down\n",
    "        options= ['', 'Mathematik', 'Informatik', 'Philosophie', 'Kulturwissenschaften', 'Psychologie'],\n",
    "        description= \"Studienfach ?\",\n",
    "        disabled=False\n",
    "    )\n",
    "save = widgets.Button(description=\"Save\")\n",
    "\n",
    "def save_to_csv(event):\n",
    "    if (lastname.value == '' or forename.value == '' or lecture.value == ''):\n",
    "        print(\"Bitte alle Werte ausfüllen!\")\n",
    "        return\n",
    "    \n",
    "    result = []\n",
    "    \n",
    "    with open('students.csv', 'r', newline='') as f:\n",
    "        reader = csv.reader(f, delimiter=';')\n",
    "        \n",
    "        for row in reader:\n",
    "            result.append(row)\n",
    "        \n",
    "        if (len(result) > 1):\n",
    "            result = result[1:]\n",
    "        \n",
    "        result.append([ forename.value, lastname.value, lecture.value ])\n",
    "        \n",
    "        df = pd.DataFrame(data = result, columns = values)\n",
    "        \n",
    "        display(df)\n",
    "        \n",
    "    with open('students.csv', 'w', newline='', encoding=\"utf-8\") as f:\n",
    "        writer = csv.writer(f, delimiter=';')\n",
    "        \n",
    "        writer.writerow(values)\n",
    "            \n",
    "        for item in result:\n",
    "            writer.writerow(item)\n",
    "        \n",
    "        forename.value = \"\"\n",
    "        lastname.value = \"\"\n",
    "        lecture.value = ''\n",
    "        \n",
    "save.on_click(save_to_csv)"
   ]
  },
  {
   "cell_type": "code",
   "execution_count": 57,
   "id": "d70ac7a1",
   "metadata": {},
   "outputs": [
    {
     "data": {
      "application/vnd.jupyter.widget-view+json": {
       "model_id": "3da30b73bea0415c9c1ddc7f0c915638",
       "version_major": 2,
       "version_minor": 0
      },
      "text/plain": [
       "Text(value='Max', description='Vorname:')"
      ]
     },
     "metadata": {},
     "output_type": "display_data"
    },
    {
     "data": {
      "application/vnd.jupyter.widget-view+json": {
       "model_id": "0141935d507e41c1a1c71f15ba7d369a",
       "version_major": 2,
       "version_minor": 0
      },
      "text/plain": [
       "Text(value='Mustermann', description='Nachname:')"
      ]
     },
     "metadata": {},
     "output_type": "display_data"
    },
    {
     "data": {
      "application/vnd.jupyter.widget-view+json": {
       "model_id": "7bd0b2d0604646198db462fbd6543da1",
       "version_major": 2,
       "version_minor": 0
      },
      "text/plain": [
       "Dropdown(description='Studienfach ?', options=('', 'Mathematik', 'Informatik', 'Philosophie', 'Kulturwissensch…"
      ]
     },
     "metadata": {},
     "output_type": "display_data"
    },
    {
     "data": {
      "application/vnd.jupyter.widget-view+json": {
       "model_id": "8cd39b9f280a4ef8a880e26304d83d1e",
       "version_major": 2,
       "version_minor": 0
      },
      "text/plain": [
       "Button(description='Save', style=ButtonStyle())"
      ]
     },
     "metadata": {},
     "output_type": "display_data"
    },
    {
     "data": {
      "text/html": [
       "<div>\n",
       "<style scoped>\n",
       "    .dataframe tbody tr th:only-of-type {\n",
       "        vertical-align: middle;\n",
       "    }\n",
       "\n",
       "    .dataframe tbody tr th {\n",
       "        vertical-align: top;\n",
       "    }\n",
       "\n",
       "    .dataframe thead th {\n",
       "        text-align: right;\n",
       "    }\n",
       "</style>\n",
       "<table border=\"1\" class=\"dataframe\">\n",
       "  <thead>\n",
       "    <tr style=\"text-align: right;\">\n",
       "      <th></th>\n",
       "      <th>Vorname</th>\n",
       "      <th>Nachname</th>\n",
       "      <th>Studienfach</th>\n",
       "    </tr>\n",
       "  </thead>\n",
       "  <tbody>\n",
       "    <tr>\n",
       "      <th>0</th>\n",
       "      <td>Max</td>\n",
       "      <td>Mustermann</td>\n",
       "      <td>Mathematik</td>\n",
       "    </tr>\n",
       "    <tr>\n",
       "      <th>1</th>\n",
       "      <td>Mathias</td>\n",
       "      <td>Mueller</td>\n",
       "      <td>Informatik</td>\n",
       "    </tr>\n",
       "    <tr>\n",
       "      <th>2</th>\n",
       "      <td>Franziska</td>\n",
       "      <td>Hannß</td>\n",
       "      <td>Kulturwissenschaften</td>\n",
       "    </tr>\n",
       "    <tr>\n",
       "      <th>3</th>\n",
       "      <td>Tom</td>\n",
       "      <td>Gruneder</td>\n",
       "      <td>Psychologie</td>\n",
       "    </tr>\n",
       "    <tr>\n",
       "      <th>4</th>\n",
       "      <td>Heinz</td>\n",
       "      <td>Assauer</td>\n",
       "      <td>Kulturwissenschaften</td>\n",
       "    </tr>\n",
       "  </tbody>\n",
       "</table>\n",
       "</div>"
      ],
      "text/plain": [
       "     Vorname    Nachname           Studienfach\n",
       "0        Max  Mustermann            Mathematik\n",
       "1    Mathias     Mueller            Informatik\n",
       "2  Franziska       Hannß  Kulturwissenschaften\n",
       "3        Tom    Gruneder           Psychologie\n",
       "4      Heinz     Assauer  Kulturwissenschaften"
      ]
     },
     "metadata": {},
     "output_type": "display_data"
    }
   ],
   "source": [
    "display(forename)\n",
    "display(lastname)\n",
    "display(lecture)\n",
    "display(save)"
   ]
  }
 ],
 "metadata": {
  "kernelspec": {
   "display_name": "Python 3 (ipykernel)",
   "language": "python",
   "name": "python3"
  },
  "language_info": {
   "codemirror_mode": {
    "name": "ipython",
    "version": 3
   },
   "file_extension": ".py",
   "mimetype": "text/x-python",
   "name": "python",
   "nbconvert_exporter": "python",
   "pygments_lexer": "ipython3",
   "version": "3.8.12"
  }
 },
 "nbformat": 4,
 "nbformat_minor": 5
}
