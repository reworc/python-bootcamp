{
 "cells": [
  {
   "cell_type": "code",
   "execution_count": 9,
   "metadata": {},
   "outputs": [
    {
     "name": "stdout",
     "output_type": "stream",
     "text": [
      "jap\n",
      "jap2\n",
      "regular flow\n"
     ]
    }
   ],
   "source": [
    "n = 13\n",
    "if n < 42:\n",
    "    print(\"jap\")\n",
    "    print(\"jap2\")\n",
    "print(\"regular flow\")"
   ]
  },
  {
   "cell_type": "code",
   "execution_count": 10,
   "metadata": {},
   "outputs": [
    {
     "name": "stdout",
     "output_type": "stream",
     "text": [
      "nicht kleiner 5\n"
     ]
    }
   ],
   "source": [
    "n = 10\n",
    "if n < 5:\n",
    "    print(\"kleiner 5\")\n",
    "else: \n",
    "    print(\"nicht kleiner 5\")"
   ]
  },
  {
   "cell_type": "code",
   "execution_count": 14,
   "metadata": {},
   "outputs": [
    {
     "name": "stdout",
     "output_type": "stream",
     "text": [
      "Euro\n"
     ]
    }
   ],
   "source": [
    "currency = \"€\"\n",
    "\n",
    "if currency == \"$\":\n",
    "    print(\"US-Dollar\")\n",
    "else:\n",
    "    if currency == \"¥\":\n",
    "        print(\"Yen\")\n",
    "    else:\n",
    "        if currency == \"€\":\n",
    "            print(\"Euro\")\n",
    "        else:\n",
    "            print(\"invalid\")"
   ]
  },
  {
   "cell_type": "code",
   "execution_count": 13,
   "metadata": {},
   "outputs": [
    {
     "name": "stdout",
     "output_type": "stream",
     "text": [
      "Euro\n"
     ]
    }
   ],
   "source": [
    "currency = \"€\"\n",
    "\n",
    "if currency == \"$\":\n",
    "    print(\"US-Dollar\")\n",
    "elif currency == \"¥\":\n",
    "    print(\"Yen\")\n",
    "elif currency == \"€\":\n",
    "    print(\"Euro\")\n",
    "else:\n",
    "    print(\"invalid\")"
   ]
  },
  {
   "cell_type": "code",
   "execution_count": 22,
   "metadata": {},
   "outputs": [
    {
     "name": "stdout",
     "output_type": "stream",
     "text": [
      "0\n",
      "1\n",
      "2\n",
      "3\n",
      "4\n",
      "5\n",
      "6\n",
      "7\n",
      "8\n",
      "9\n",
      "counter after loop: 10\n"
     ]
    }
   ],
   "source": [
    "counter = 0\n",
    "\n",
    "while counter < 10:\n",
    "    print(counter)\n",
    "    counter += 1\n",
    "    \n",
    "print(\"counter after loop: \" + str(counter))"
   ]
  },
  {
   "cell_type": "code",
   "execution_count": 18,
   "metadata": {},
   "outputs": [
    {
     "name": "stdout",
     "output_type": "stream",
     "text": [
      "0\n",
      "1\n",
      "2\n",
      "3\n",
      "4\n",
      "5\n",
      "6\n",
      "7\n",
      "8\n",
      "9\n",
      "counter after loop: 9\n"
     ]
    }
   ],
   "source": [
    "for counter in range(0,10):\n",
    "    print(counter)\n",
    "    \n",
    "print(\"counter after loop: \" + str(counter))"
   ]
  },
  {
   "cell_type": "code",
   "execution_count": 20,
   "metadata": {},
   "outputs": [
    {
     "name": "stdout",
     "output_type": "stream",
     "text": [
      "1\n",
      "5\n",
      "6\n",
      "elem after loop: 6\n"
     ]
    }
   ],
   "source": [
    "list = [1, 5, 6]\n",
    "for elem in list:\n",
    "    print(elem)\n",
    "    \n",
    "print(\"elem after loop: \" + str(elem))"
   ]
  },
  {
   "cell_type": "code",
   "execution_count": 23,
   "metadata": {},
   "outputs": [
    {
     "name": "stdout",
     "output_type": "stream",
     "text": [
      "1\n",
      "3\n",
      "5\n",
      "7\n",
      "9\n"
     ]
    }
   ],
   "source": [
    "for i in range(0,10):\n",
    "    if i % 2 == 0:\n",
    "        continue\n",
    "    print(i)"
   ]
  },
  {
   "cell_type": "code",
   "execution_count": 24,
   "metadata": {},
   "outputs": [
    {
     "name": "stdout",
     "output_type": "stream",
     "text": [
      "0\n",
      "1\n",
      "2\n",
      "3\n",
      "4\n"
     ]
    }
   ],
   "source": [
    "for i in range(0,10):\n",
    "    if i == 5:\n",
    "        break\n",
    "    print(i)"
   ]
  },
  {
   "cell_type": "code",
   "execution_count": 25,
   "metadata": {},
   "outputs": [
    {
     "name": "stdout",
     "output_type": "stream",
     "text": [
      "17\n"
     ]
    }
   ],
   "source": [
    "list = [4,6,7,2,4,6,7]\n",
    "sum = 0\n",
    "for elem in list:\n",
    "    sum += elem\n",
    "    if sum > 10:\n",
    "        break\n",
    "print(sum)"
   ]
  },
  {
   "cell_type": "code",
   "execution_count": null,
   "metadata": {},
   "outputs": [],
   "source": []
  }
 ],
 "metadata": {
  "kernelspec": {
   "display_name": "Python 3",
   "language": "python",
   "name": "python3"
  },
  "language_info": {
   "codemirror_mode": {
    "name": "ipython",
    "version": 3
   },
   "file_extension": ".py",
   "mimetype": "text/x-python",
   "name": "python",
   "nbconvert_exporter": "python",
   "pygments_lexer": "ipython3",
   "version": "3.8.5"
  }
 },
 "nbformat": 4,
 "nbformat_minor": 4
}
