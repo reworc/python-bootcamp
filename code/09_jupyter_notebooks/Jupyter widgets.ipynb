{
 "cells": [
  {
   "cell_type": "code",
   "execution_count": 2,
   "id": "ab7dc4fa",
   "metadata": {},
   "outputs": [],
   "source": [
    "import ipywidgets as widgets\n",
    "from IPython.display import display"
   ]
  },
  {
   "cell_type": "code",
   "execution_count": 3,
   "id": "9a9b02f9",
   "metadata": {},
   "outputs": [
    {
     "data": {
      "application/vnd.jupyter.widget-view+json": {
       "model_id": "70d04702663742f7a9480cdcb3faa7d9",
       "version_major": 2,
       "version_minor": 0
      },
      "text/plain": [
       "Button(description='Hallo Welt', style=ButtonStyle())"
      ]
     },
     "metadata": {},
     "output_type": "display_data"
    }
   ],
   "source": [
    "widgets.Button(description=\"Hallo Welt\")"
   ]
  },
  {
   "cell_type": "code",
   "execution_count": 7,
   "id": "68131fb7",
   "metadata": {},
   "outputs": [
    {
     "data": {
      "application/vnd.jupyter.widget-view+json": {
       "model_id": "5a773e71b2dd482b9c59e7570292d3d9",
       "version_major": 2,
       "version_minor": 0
      },
      "text/plain": [
       "Text(value='Text', description='Beschriftung:')"
      ]
     },
     "metadata": {},
     "output_type": "display_data"
    }
   ],
   "source": [
    "widgets.Text(description=\"Beschriftung:\", value=\"Text\")"
   ]
  },
  {
   "cell_type": "code",
   "execution_count": 5,
   "id": "d022f936",
   "metadata": {},
   "outputs": [
    {
     "data": {
      "application/vnd.jupyter.widget-view+json": {
       "model_id": "8b4a25d3ff7f450cac86c8f99ca6234a",
       "version_major": 2,
       "version_minor": 0
      },
      "text/plain": [
       "IntText(value=123, description='Beschriftung:')"
      ]
     },
     "metadata": {},
     "output_type": "display_data"
    }
   ],
   "source": [
    "widgets.IntText(description=\"Int-Value:\", value=\"123\")"
   ]
  },
  {
   "cell_type": "code",
   "execution_count": 6,
   "id": "19b67286",
   "metadata": {},
   "outputs": [
    {
     "data": {
      "application/vnd.jupyter.widget-view+json": {
       "model_id": "862fd05ecc43404f8b0ab4672f965e12",
       "version_major": 2,
       "version_minor": 0
      },
      "text/plain": [
       "FloatText(value=123.5, description='Float value:')"
      ]
     },
     "metadata": {},
     "output_type": "display_data"
    }
   ],
   "source": [
    "widgets.FloatText(description=\"Float value:\", value=\"123.5\")"
   ]
  },
  {
   "cell_type": "code",
   "execution_count": 9,
   "id": "ad664933",
   "metadata": {},
   "outputs": [
    {
     "data": {
      "application/vnd.jupyter.widget-view+json": {
       "model_id": "d7496d608caf4fa3aad0ae592f66968e",
       "version_major": 2,
       "version_minor": 0
      },
      "text/plain": [
       "Checkbox(value=True, description='Use Floats?')"
      ]
     },
     "metadata": {},
     "output_type": "display_data"
    }
   ],
   "source": [
    "widgets.Checkbox(description=\"Use Floats?\", value=True)"
   ]
  },
  {
   "cell_type": "code",
   "execution_count": 14,
   "id": "b3311e0b",
   "metadata": {},
   "outputs": [
    {
     "data": {
      "application/vnd.jupyter.widget-view+json": {
       "model_id": "87372c2f79b44d0195e9ed3a50975c93",
       "version_major": 2,
       "version_minor": 0
      },
      "text/plain": [
       "RadioButtons(description='Welche Stadt ?', options=('München', 'Berlin', 'Köln'), value='München')"
      ]
     },
     "metadata": {},
     "output_type": "display_data"
    }
   ],
   "source": [
    "widgets.RadioButtons(\n",
    "    options= ['München', 'Berlin', 'Köln'],\n",
    "    description= \"Welche Stadt ?\",\n",
    "    disabled=False\n",
    ")"
   ]
  },
  {
   "cell_type": "code",
   "execution_count": 16,
   "id": "6755b13b",
   "metadata": {},
   "outputs": [
    {
     "data": {
      "application/vnd.jupyter.widget-view+json": {
       "model_id": "ffa80b9a32884a5893c595a5d12e4439",
       "version_major": 2,
       "version_minor": 0
      },
      "text/plain": [
       "Dropdown(description='Welche Stadt ?', options=('München', 'Berlin', 'Köln'), value='München')"
      ]
     },
     "metadata": {},
     "output_type": "display_data"
    }
   ],
   "source": [
    "widgets.Dropdown(\n",
    "    options= ['München', 'Berlin', 'Köln'],\n",
    "    description= \"Welche Stadt ?\",\n",
    "    disabled=False\n",
    ")"
   ]
  },
  {
   "cell_type": "markdown",
   "id": "83beac69",
   "metadata": {},
   "source": [
    "# Interactivity"
   ]
  },
  {
   "cell_type": "code",
   "execution_count": 19,
   "id": "8a5cef60",
   "metadata": {},
   "outputs": [
    {
     "data": {
      "application/vnd.jupyter.widget-view+json": {
       "model_id": "a395a254076b42ff9a86a1cf143981ea",
       "version_major": 2,
       "version_minor": 0
      },
      "text/plain": [
       "IntText(value=23, description='Alter:')"
      ]
     },
     "metadata": {},
     "output_type": "display_data"
    }
   ],
   "source": [
    "age = widgets.IntText(description=\"Alter:\", value=\"23\")\n",
    "display(age)\n"
   ]
  },
  {
   "cell_type": "code",
   "execution_count": 20,
   "id": "9849d9d8",
   "metadata": {},
   "outputs": [
    {
     "name": "stdout",
     "output_type": "stream",
     "text": [
      "27\n"
     ]
    }
   ],
   "source": [
    "print(age.value)"
   ]
  },
  {
   "cell_type": "code",
   "execution_count": 25,
   "id": "6ddc8336",
   "metadata": {},
   "outputs": [
    {
     "data": {
      "application/vnd.jupyter.widget-view+json": {
       "model_id": "6b127e9f0a0f405799847ef7214962e3",
       "version_major": 2,
       "version_minor": 0
      },
      "text/plain": [
       "Button(description='OK', style=ButtonStyle())"
      ]
     },
     "metadata": {},
     "output_type": "display_data"
    }
   ],
   "source": [
    "button = widgets.Button(description=\"OK\")\n",
    "display (button)\n",
    "\n",
    "def on_button_click(event):\n",
    "    # print(\"button cliekd!\")\n",
    "    button.description=\"Clicked!\"\n",
    "    \n",
    "button.on_click(on_button_click)\n"
   ]
  }
 ],
 "metadata": {
  "kernelspec": {
   "display_name": "Python 3 (ipykernel)",
   "language": "python",
   "name": "python3"
  },
  "language_info": {
   "codemirror_mode": {
    "name": "ipython",
    "version": 3
   },
   "file_extension": ".py",
   "mimetype": "text/x-python",
   "name": "python",
   "nbconvert_exporter": "python",
   "pygments_lexer": "ipython3",
   "version": "3.8.12"
  }
 },
 "nbformat": 4,
 "nbformat_minor": 5
}
