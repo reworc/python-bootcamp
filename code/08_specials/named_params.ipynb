{
 "cells": [
  {
   "cell_type": "code",
   "execution_count": 3,
   "id": "a2e1f60f",
   "metadata": {},
   "outputs": [
    {
     "name": "stdout",
     "output_type": "stream",
     "text": [
      "Hello\n",
      "Hello\n",
      "Hello\n",
      "World\n",
      "World\n",
      "World\n"
     ]
    }
   ],
   "source": [
    "def multi_print(number = 3, word = \"Hello\"):\n",
    "    for i in range(0, number):\n",
    "        print(word)\n",
    "        \n",
    "multi_print()\n",
    "multi_print(word = \"World\")"
   ]
  },
  {
   "cell_type": "code",
   "execution_count": 7,
   "id": "92f3391f",
   "metadata": {
    "scrolled": true
   },
   "outputs": [
    {
     "name": "stdout",
     "output_type": "stream",
     "text": [
      "1\n",
      "2\n",
      "3\n"
     ]
    }
   ],
   "source": [
    "def f(a,b,c):\n",
    "    print(a)\n",
    "    print(b)\n",
    "    print(c)\n",
    "    \n",
    "l = [1,2,3]\n",
    "\n",
    "# f(l[0], l[1], l[2])\n",
    "f(*l)"
   ]
  },
  {
   "cell_type": "code",
   "execution_count": 14,
   "id": "06978c16",
   "metadata": {},
   "outputs": [
    {
     "data": {
      "text/plain": [
       "4"
      ]
     },
     "execution_count": 14,
     "metadata": {},
     "output_type": "execute_result"
    }
   ],
   "source": [
    "def calculate_max(*params):\n",
    "    result = params[0]\n",
    "    for p in params:\n",
    "        if p > result: \n",
    "            result = p\n",
    "    \n",
    "    return result\n",
    "         \n",
    "calculate_max(1,2,3,4)"
   ]
  },
  {
   "cell_type": "code",
   "execution_count": 15,
   "id": "c4a3afcc",
   "metadata": {},
   "outputs": [
    {
     "data": {
      "text/plain": [
       "4"
      ]
     },
     "execution_count": 15,
     "metadata": {},
     "output_type": "execute_result"
    }
   ],
   "source": [
    "def calculate_max(current_max, *params):\n",
    "    for p in params:\n",
    "        if p > current_max: \n",
    "            result = p\n",
    "    \n",
    "    return result\n",
    "         \n",
    "calculate_max(1,2,3,4)"
   ]
  },
  {
   "cell_type": "code",
   "execution_count": 16,
   "id": "3363d4c7",
   "metadata": {},
   "outputs": [
    {
     "name": "stdout",
     "output_type": "stream",
     "text": [
      "{'key': 'value', 'key2': 'value2'}\n"
     ]
    }
   ],
   "source": [
    "def f(**args):\n",
    "    print(args)\n",
    "    \n",
    "f(key=\"value\", key2=\"value2\")"
   ]
  },
  {
   "cell_type": "code",
   "execution_count": 19,
   "id": "dcc5329d",
   "metadata": {},
   "outputs": [
    {
     "name": "stdout",
     "output_type": "stream",
     "text": [
      "Ich in der Schlüssel\n",
      "Ich bin der Parameter\n"
     ]
    }
   ],
   "source": [
    "def g(key, param2):\n",
    "    print(key)\n",
    "    print(param2)\n",
    "    \n",
    "d = {\"key\" : \"Ich in der Schlüssel\", \"param2\" : \"Ich bin der Parameter\" }\n",
    "\n",
    "# g(key=d[\"key\"], param2=d[\"param2\"])\n",
    "g(**d)"
   ]
  },
  {
   "cell_type": "code",
   "execution_count": 26,
   "id": "f5eaf450",
   "metadata": {},
   "outputs": [
    {
     "data": {
      "image/png": "[encoded data removed]",
      "text/plain": [
       "<Figure size 432x288 with 1 Axes>"
      ]
     },
     "metadata": {
      "needs_background": "light"
     },
     "output_type": "display_data"
    }
   ],
   "source": [
    "%matplotlib inline\n",
    "import matplotlib.pyplot as plt\n",
    "\n",
    "def create_plot(**plot_params):\n",
    "\n",
    "    # calculate something ...\n",
    "    # plt.plot([1,2,3], [5,6,5], color= \"r\", linewidth=5)\n",
    "    plt.plot([1,2,3], [5,6,5], **plot_params)\n",
    "    plt.show()\n",
    "    \n",
    "# plot_cfg = { \"color\" : \"r\", \"linewidth\" : 5, \"linestyle\" : \"dashed\" }\n",
    "\n",
    "# create_plot(**plot_cfg)\n",
    "create_plot(color=\"r\", linewidth=5, linestyle=\"dashed\")"
   ]
  },
  {
   "cell_type": "code",
   "execution_count": null,
   "id": "2d67a79c",
   "metadata": {},
   "outputs": [],
   "source": []
  }
 ],
 "metadata": {
  "kernelspec": {
   "display_name": "Python 3",
   "language": "python",
   "name": "python3"
  },
  "language_info": {
   "codemirror_mode": {
    "name": "ipython",
    "version": 3
   },
   "file_extension": ".py",
   "mimetype": "text/x-python",
   "name": "python",
   "nbconvert_exporter": "python",
   "pygments_lexer": "ipython3",
   "version": "3.8.8"
  }
 },
 "nbformat": 4,
 "nbformat_minor": 5
}
