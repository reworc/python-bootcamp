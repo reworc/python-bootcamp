{
 "cells": [
  {
   "cell_type": "markdown",
   "metadata": {},
   "source": [
    "## Die O-Notation"
   ]
  },
  {
   "cell_type": "markdown",
   "metadata": {},
   "source": [
    "### Laufzeit: O(1)"
   ]
  },
  {
   "cell_type": "code",
   "execution_count": 2,
   "metadata": {},
   "outputs": [
    {
     "name": "stdout",
     "output_type": "stream",
     "text": [
      "Hallo Welt\n",
      "Hallo Welt\n",
      "Hallo Welt\n"
     ]
    }
   ],
   "source": [
    "def f(n):\n",
    "    print(\"Hallo Welt\")\n",
    "    print(\"Hallo Welt\")\n",
    "    print(\"Hallo Welt\")\n",
    "    \n",
    "f(10)"
   ]
  },
  {
   "cell_type": "markdown",
   "metadata": {},
   "source": [
    "### Laufzeit: O(n)"
   ]
  },
  {
   "cell_type": "code",
   "execution_count": 4,
   "metadata": {},
   "outputs": [
    {
     "name": "stdout",
     "output_type": "stream",
     "text": [
      "Hallo Welt\n",
      "Hallo Welt\n",
      "Hallo Welt\n",
      "Hallo Welt\n",
      "Hallo Welt\n",
      "Hallo Welt\n",
      "Hallo Welt\n",
      "Hallo Welt\n"
     ]
    }
   ],
   "source": [
    "def f(n):\n",
    "    for i in range(0, n):\n",
    "        print(\"Hallo Welt\")\n",
    "        print(\"Hallo Welt\")\n",
    "    \n",
    "f(4)"
   ]
  },
  {
   "cell_type": "markdown",
   "metadata": {},
   "source": [
    "### Laufzeit: O(n)"
   ]
  },
  {
   "cell_type": "code",
   "execution_count": 5,
   "metadata": {},
   "outputs": [
    {
     "name": "stdout",
     "output_type": "stream",
     "text": [
      "Hallo Welt\n",
      "Hallo Welt\n",
      "Hallo Welt\n",
      "Hallo Welt\n",
      "Hallo Welt\n",
      "Hallo Welt\n"
     ]
    }
   ],
   "source": [
    "def f(n):\n",
    "    print(\"Hallo Welt\")\n",
    "    print(\"Hallo Welt\")\n",
    "    for i in range(0, n):\n",
    "        print(\"Hallo Welt\")\n",
    "    \n",
    "f(4)"
   ]
  },
  {
   "cell_type": "code",
   "execution_count": 12,
   "metadata": {},
   "outputs": [
    {
     "data": {
      "image/png": "[encoded data removed]",
      "text/plain": [
       "<matplotlib.figure.Figure at 0x116abd630>"
      ]
     },
     "metadata": {},
     "output_type": "display_data"
    }
   ],
   "source": [
    "import matplotlib.pyplot as plt\n",
    "import numpy as np\n",
    "\n",
    "%matplotlib inline\n",
    "\n",
    "plt.plot(np.arange(0, 25000), np.arange(0, 25000), label=\"n\")\n",
    "plt.plot(np.arange(0, 25000), np.arange(0, 25000) + 2, label=\"n + 2\")\n",
    "plt.legend()\n",
    "plt.show()"
   ]
  },
  {
   "cell_type": "markdown",
   "metadata": {},
   "source": [
    "### Laufzeit: O(n^2)"
   ]
  },
  {
   "cell_type": "code",
   "execution_count": 13,
   "metadata": {},
   "outputs": [
    {
     "name": "stdout",
     "output_type": "stream",
     "text": [
      "Hallo Welt\n",
      "Hallo Welt\n",
      "Hallo Welt\n",
      "Hallo Welt\n",
      "Hallo Welt\n",
      "Hallo Welt\n",
      "Hallo Welt\n",
      "Hallo Welt\n",
      "Hallo Welt\n",
      "Hallo Welt\n",
      "Hallo Welt\n",
      "Hallo Welt\n",
      "Hallo Welt\n",
      "Hallo Welt\n",
      "Hallo Welt\n",
      "Hallo Welt\n"
     ]
    }
   ],
   "source": [
    "def f(n):\n",
    "    for i in range(0, n): # O(n*n)\n",
    "        for j in range(0, n): # O(n)\n",
    "            print(\"Hallo Welt\") # O(1)\n",
    "    \n",
    "f(4)"
   ]
  },
  {
   "cell_type": "markdown",
   "metadata": {},
   "source": [
    "### Laufzeit: O(n^2)"
   ]
  },
  {
   "cell_type": "code",
   "execution_count": 15,
   "metadata": {},
   "outputs": [
    {
     "name": "stdout",
     "output_type": "stream",
     "text": [
      "Hallo Welt\n",
      "Hallo Welt\n",
      "Hallo Welt\n",
      "Hallo Welt\n"
     ]
    }
   ],
   "source": [
    "def f(n):\n",
    "    for i in range(0, int(n / 2)): # O(n*n)\n",
    "        for j in range(0, int(n / 2)): # O(n) \n",
    "            print(\"Hallo Welt\") # O(1)\n",
    "    \n",
    "f(4)"
   ]
  },
  {
   "cell_type": "code",
   "execution_count": null,
   "metadata": {
    "collapsed": true
   },
   "outputs": [],
   "source": []
  },
  {
   "cell_type": "code",
   "execution_count": null,
   "metadata": {
    "collapsed": true
   },
   "outputs": [],
   "source": []
  }
 ],
 "metadata": {
  "kernelspec": {
   "display_name": "Python 3",
   "language": "python",
   "name": "python3"
  },
  "language_info": {
   "codemirror_mode": {
    "name": "ipython",
    "version": 3
   },
   "file_extension": ".py",
   "mimetype": "text/x-python",
   "name": "python",
   "nbconvert_exporter": "python",
   "pygments_lexer": "ipython3",
   "version": "3.6.2"
  }
 },
 "nbformat": 4,
 "nbformat_minor": 2
}
