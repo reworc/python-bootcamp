{
 "cells": [
  {
   "cell_type": "markdown",
   "metadata": {
    "collapsed": true
   },
   "source": [
    "## Exkurs: Maschinelles Lernen (Lineare Regression)\n",
    "\n",
    "In dieser Lektion machen wir einen kleinen Exkurs: Wir beschäftigen uns ein bisschen mit maschinellem Lernen. Aber keine Sorge, geht ganz easy :)\n",
    "\n",
    "In dieser Lektion lernst du:\n",
    "\n",
    "- Wie du eine Linie durch die Geburtsstatstik zeichnest, die den Trend der Statistik veranschaulicht\n",
    "\n",
    "Indem wir diese Linie verlängern, können wir versuchen Zukunftsprognosen treffen."
   ]
  },
  {
   "cell_type": "markdown",
   "metadata": {
    "collapsed": true
   },
   "source": [
    "Wir schauen uns nochmal die Häufigkeit des Namens \"Anna\" für Frauen in Kalifornien an:"
   ]
  },
  {
   "cell_type": "code",
   "execution_count": 43,
   "metadata": {},
   "outputs": [
    {
     "data": {
      "text/html": [
       "<div>\n",
       "<style>\n",
       "    .dataframe thead tr:only-child th {\n",
       "        text-align: right;\n",
       "    }\n",
       "\n",
       "    .dataframe thead th {\n",
       "        text-align: left;\n",
       "    }\n",
       "\n",
       "    .dataframe tbody tr th {\n",
       "        vertical-align: top;\n",
       "    }\n",
       "</style>\n",
       "<table border=\"1\" class=\"dataframe\">\n",
       "  <thead>\n",
       "    <tr style=\"text-align: right;\">\n",
       "      <th></th>\n",
       "      <th>Id</th>\n",
       "      <th>Name</th>\n",
       "      <th>Year</th>\n",
       "      <th>Gender</th>\n",
       "      <th>State</th>\n",
       "      <th>Count</th>\n",
       "    </tr>\n",
       "  </thead>\n",
       "  <tbody>\n",
       "    <tr>\n",
       "      <th>0</th>\n",
       "      <td>1</td>\n",
       "      <td>Mary</td>\n",
       "      <td>1910</td>\n",
       "      <td>F</td>\n",
       "      <td>AK</td>\n",
       "      <td>14</td>\n",
       "    </tr>\n",
       "    <tr>\n",
       "      <th>1</th>\n",
       "      <td>2</td>\n",
       "      <td>Annie</td>\n",
       "      <td>1910</td>\n",
       "      <td>F</td>\n",
       "      <td>AK</td>\n",
       "      <td>12</td>\n",
       "    </tr>\n",
       "    <tr>\n",
       "      <th>2</th>\n",
       "      <td>3</td>\n",
       "      <td>Anna</td>\n",
       "      <td>1910</td>\n",
       "      <td>F</td>\n",
       "      <td>AK</td>\n",
       "      <td>10</td>\n",
       "    </tr>\n",
       "    <tr>\n",
       "      <th>3</th>\n",
       "      <td>4</td>\n",
       "      <td>Margaret</td>\n",
       "      <td>1910</td>\n",
       "      <td>F</td>\n",
       "      <td>AK</td>\n",
       "      <td>8</td>\n",
       "    </tr>\n",
       "    <tr>\n",
       "      <th>4</th>\n",
       "      <td>5</td>\n",
       "      <td>Helen</td>\n",
       "      <td>1910</td>\n",
       "      <td>F</td>\n",
       "      <td>AK</td>\n",
       "      <td>7</td>\n",
       "    </tr>\n",
       "  </tbody>\n",
       "</table>\n",
       "</div>"
      ],
      "text/plain": [
       "   Id      Name  Year Gender State  Count\n",
       "0   1      Mary  1910      F    AK     14\n",
       "1   2     Annie  1910      F    AK     12\n",
       "2   3      Anna  1910      F    AK     10\n",
       "3   4  Margaret  1910      F    AK      8\n",
       "4   5     Helen  1910      F    AK      7"
      ]
     },
     "execution_count": 43,
     "metadata": {},
     "output_type": "execute_result"
    }
   ],
   "source": [
    "# pandas zum Einlesen der csv-Datei und matplotlib zur grafischen Darstellung einbinden\n",
    "%matplotlib inline\n",
    "import matplotlib.pyplot as plt\n",
    "import pandas as pd\n",
    "\n",
    "df = pd.read_csv(\"../data/names.csv\")\n",
    "df.head()"
   ]
  },
  {
   "cell_type": "markdown",
   "metadata": {},
   "source": [
    "Wir filtern das DataFrame und plotten das Resultat:"
   ]
  },
  {
   "cell_type": "code",
   "execution_count": 40,
   "metadata": {
    "collapsed": true
   },
   "outputs": [],
   "source": [
    "name = \"Anna\"\n",
    "gender = \"F\"\n",
    "state = \"CA\"\n",
    "\n",
    "df2 = df[df[\"Name\"] == name]\n",
    "df3 = df2[df2[\"Gender\"] == gender]\n",
    "df4 = df3[df3[\"State\"] == state]\n",
    "\n",
    "df5 = df4.sort_values(\"Year\")\n",
    "\n",
    "xs = df5[\"Year\"]\n",
    "ys = df5[\"Count\"]"
   ]
  },
  {
   "cell_type": "code",
   "execution_count": 2,
   "metadata": {},
   "outputs": [
    {
     "data": {
      "image/png": "[encoded data removed]",
      "text/plain": [
       "<matplotlib.figure.Figure at 0x204afc0a7f0>"
      ]
     },
     "metadata": {},
     "output_type": "display_data"
    }
   ],
   "source": [
    "plt.plot(xs, ys)\n",
    "plt.show()"
   ]
  },
  {
   "cell_type": "markdown",
   "metadata": {},
   "source": [
    "### Maschinelles Lernen mit dem `scikit-learn`-Modul\n",
    "\n",
    "Die `LinearRegression()` - Funktion, die eine \"passende\" Gerade durch unseren Grapfen legt, importieren wir aus dem `scikit-learn` - Modul: "
   ]
  },
  {
   "cell_type": "code",
   "execution_count": 3,
   "metadata": {
    "collapsed": true
   },
   "outputs": [],
   "source": [
    "from sklearn.linear_model import LinearRegression"
   ]
  },
  {
   "cell_type": "markdown",
   "metadata": {},
   "source": [
    "Bevor wir die Funktion anwenden, müssen wir die Parameter vorbereiten: unsere Eingabewerte (die Jahreszahlen) müssen als höherdimensionale Arrays vorliegen, d.h. wir \"verpacken\" sie:"
   ]
  },
  {
   "cell_type": "code",
   "execution_count": 41,
   "metadata": {},
   "outputs": [
    {
     "name": "stdout",
     "output_type": "stream",
     "text": [
      "[[1910], [1911], [1912], [1913], [1914], [1915], [1916], [1917], [1918], [1919], [1920], [1921], [1922], [1923], [1924], [1925], [1926], [1927], [1928], [1929], [1930], [1931], [1932], [1933], [1934], [1935], [1936], [1937], [1938], [1939], [1940], [1941], [1942], [1943], [1944], [1945], [1946], [1947], [1948], [1949], [1950], [1951], [1952], [1953], [1954], [1955], [1956], [1957], [1958], [1959], [1960], [1961], [1962], [1963], [1964], [1965], [1966], [1967], [1968], [1969], [1970], [1971], [1972], [1973], [1974], [1975], [1976], [1977], [1978], [1979], [1980], [1981], [1982], [1983], [1984], [1985], [1986], [1987], [1988], [1989], [1990], [1991], [1992], [1993], [1994], [1995], [1996], [1997], [1998], [1999], [2000], [2001], [2002], [2003], [2004], [2005], [2006], [2007], [2008], [2009], [2010], [2011], [2012], [2013], [2014]]\n"
     ]
    }
   ],
   "source": [
    "xsl = []\n",
    "\n",
    "for x in xs:\n",
    "    xsl.append([x])\n",
    "    \n",
    "print(xsl)"
   ]
  },
  {
   "cell_type": "markdown",
   "metadata": {},
   "source": [
    "Jetzt können wir mit `LinearRegression()` ein Modell mit den vorliegenden Daten trainieren. Bei dem \"Modell\" handelt es sich hier nur um eine Gerade."
   ]
  },
  {
   "cell_type": "code",
   "execution_count": 42,
   "metadata": {},
   "outputs": [
    {
     "data": {
      "text/plain": [
       "LinearRegression(copy_X=True, fit_intercept=True, n_jobs=1, normalize=False)"
      ]
     },
     "execution_count": 42,
     "metadata": {},
     "output_type": "execute_result"
    }
   ],
   "source": [
    "model = LinearRegression()\n",
    "\n",
    "model.fit(xsl, ys)"
   ]
  },
  {
   "cell_type": "markdown",
   "metadata": {},
   "source": [
    "Welche Voraussagen macht das Modell für bestimmte Jahre (die wir vergleichen könnten, weil dazu ja auch die echten Daten vorliegen)?"
   ]
  },
  {
   "cell_type": "code",
   "execution_count": 28,
   "metadata": {},
   "outputs": [
    {
     "data": {
      "text/plain": [
       "array([ 146.15203539,  318.15908494])"
      ]
     },
     "execution_count": 28,
     "metadata": {},
     "output_type": "execute_result"
    }
   ],
   "source": [
    "model.predict([[1920], [1950]])"
   ]
  },
  {
   "cell_type": "markdown",
   "metadata": {},
   "source": [
    "Wir schauen uns das Modell über die gesamte Vergangenheit an:"
   ]
  },
  {
   "cell_type": "code",
   "execution_count": 29,
   "metadata": {},
   "outputs": [
    {
     "data": {
      "text/plain": [
       "array([  88.8163522 ,   94.54992052,  100.28348884,  106.01705716,\n",
       "        111.75062548,  117.48419379,  123.21776211,  128.95133043,\n",
       "        134.68489875,  140.41846707,  146.15203539,  151.8856037 ,\n",
       "        157.61917202,  163.35274034,  169.08630866,  174.81987698,\n",
       "        180.5534453 ,  186.28701362,  192.02058193,  197.75415025,\n",
       "        203.48771857,  209.22128689,  214.95485521,  220.68842353,\n",
       "        226.42199184,  232.15556016,  237.88912848,  243.6226968 ,\n",
       "        249.35626512,  255.08983344,  260.82340176,  266.55697007,\n",
       "        272.29053839,  278.02410671,  283.75767503,  289.49124335,\n",
       "        295.22481167,  300.95837998,  306.6919483 ,  312.42551662,\n",
       "        318.15908494,  323.89265326,  329.62622158,  335.3597899 ,\n",
       "        341.09335821,  346.82692653,  352.56049485,  358.29406317,\n",
       "        364.02763149,  369.76119981,  375.49476812,  381.22833644,\n",
       "        386.96190476,  392.69547308,  398.4290414 ,  404.16260972,\n",
       "        409.89617804,  415.62974635,  421.36331467,  427.09688299,\n",
       "        432.83045131,  438.56401963,  444.29758795,  450.03115627,\n",
       "        455.76472458,  461.4982929 ,  467.23186122,  472.96542954,\n",
       "        478.69899786,  484.43256618,  490.16613449,  495.89970281,\n",
       "        501.63327113,  507.36683945,  513.10040777,  518.83397609,\n",
       "        524.56754441,  530.30111272,  536.03468104,  541.76824936,\n",
       "        547.50181768,  553.235386  ,  558.96895432,  564.70252263,\n",
       "        570.43609095,  576.16965927,  581.90322759,  587.63679591,\n",
       "        593.37036423,  599.10393255,  604.83750086,  610.57106918,\n",
       "        616.3046375 ,  622.03820582,  627.77177414,  633.50534246,\n",
       "        639.23891077,  644.97247909,  650.70604741,  656.43961573,\n",
       "        662.17318405,  667.90675237,  673.64032069,  679.373889  ,\n",
       "        685.10745732])"
      ]
     },
     "execution_count": 29,
     "metadata": {},
     "output_type": "execute_result"
    }
   ],
   "source": [
    "model.predict(xsl)"
   ]
  },
  {
   "cell_type": "markdown",
   "metadata": {},
   "source": [
    "Anschaulicher sieht unser Modell (die Gerade) so aus:"
   ]
  },
  {
   "cell_type": "code",
   "execution_count": 30,
   "metadata": {},
   "outputs": [
    {
     "data": {
      "image/png": "[encoded data removed]",
      "text/plain": [
       "<matplotlib.figure.Figure at 0x204b80b8080>"
      ]
     },
     "metadata": {},
     "output_type": "display_data"
    }
   ],
   "source": [
    "predicted = model.predict(xsl)\n",
    "\n",
    "plt.plot(xs, ys)\n",
    "plt.plot(xs, predicted)\n",
    "plt.show()"
   ]
  },
  {
   "cell_type": "markdown",
   "metadata": {},
   "source": [
    "Schauen wir uns zum Schluss doch noch eine Zukunftsprognose an, d.h. welche Häufigkeit für den weiblichen Vornamen \"Anna\" in Kalifornien liefert die in die Zukunft verlängerte Linie?"
   ]
  },
  {
   "cell_type": "code",
   "execution_count": 31,
   "metadata": {},
   "outputs": [
    {
     "data": {
      "text/plain": [
       "array([ 891.51591679])"
      ]
     },
     "execution_count": 31,
     "metadata": {},
     "output_type": "execute_result"
    }
   ],
   "source": [
    "model.predict([[2050]])"
   ]
  }
 ],
 "metadata": {
  "kernelspec": {
   "display_name": "Python 3",
   "language": "python",
   "name": "python3"
  },
  "language_info": {
   "codemirror_mode": {
    "name": "ipython",
    "version": 3
   },
   "file_extension": ".py",
   "mimetype": "text/x-python",
   "name": "python",
   "nbconvert_exporter": "python",
   "pygments_lexer": "ipython3",
   "version": "3.6.1"
  }
 },
 "nbformat": 4,
 "nbformat_minor": 2
}
