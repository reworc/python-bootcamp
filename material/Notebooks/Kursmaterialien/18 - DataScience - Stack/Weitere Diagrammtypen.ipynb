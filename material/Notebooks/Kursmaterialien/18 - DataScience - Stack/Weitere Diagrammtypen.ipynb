{
 "cells": [
  {
   "cell_type": "markdown",
   "metadata": {},
   "source": [
    "## Matplotlib unterstützt auch noch weitere Diagrammtypen...\n",
    "\n",
    "In dieser Lektion lernst du wie du mit `matplotlib` folgende Diagrammtypen zeichnen kannst:\n",
    "\n",
    "- Kreisdiagramme\n",
    "- Balkendiagramme\n",
    "- Punktediagramme"
   ]
  },
  {
   "cell_type": "code",
   "execution_count": 2,
   "metadata": {
    "collapsed": true
   },
   "outputs": [],
   "source": [
    "%matplotlib inline\n",
    "import matplotlib.pyplot as plt"
   ]
  },
  {
   "cell_type": "markdown",
   "metadata": {},
   "source": [
    "### Kreisdiagramm\n",
    "\n",
    "Für ein `Kreisdiagramm` rufst du die `pie()`-Funktion auf und übergibst ihr als Parameter eine Liste. Die Einträge in der Liste stehen für die Größe der \"Kuchenstücke\" (im Verhältnis zur Summe aller Listenelemente):"
   ]
  },
  {
   "cell_type": "code",
   "execution_count": 4,
   "metadata": {},
   "outputs": [
    {
     "data": {
      "image/png": "[encoded data removed]",
      "text/plain": [
       "<matplotlib.figure.Figure at 0x28131f6f8d0>"
      ]
     },
     "metadata": {},
     "output_type": "display_data"
    }
   ],
   "source": [
    "plt.pie([1, 2, 3])\n",
    "plt.show()"
   ]
  },
  {
   "cell_type": "markdown",
   "metadata": {},
   "source": [
    "### Balkendiagramm\n",
    "\n",
    "`Balkendiagramme` erzeugst du mit der `bar()`-Methode. Ihr musst du als Parameter zwei Listen übergeben: eine für die Werte auf der x-Achse (wo Balken sein sollen), eine für die Werte auf der y-Achse (also die Höhe der Balken). Dementsprechend müssen die beiden Listen gleich viele Elemente beinhalten:"
   ]
  },
  {
   "cell_type": "code",
   "execution_count": 8,
   "metadata": {},
   "outputs": [
    {
     "data": {
      "text/plain": [
       "<function matplotlib.pyplot.show>"
      ]
     },
     "execution_count": 8,
     "metadata": {},
     "output_type": "execute_result"
    },
    {
     "data": {
      "image/png": "[encoded data removed]",
      "text/plain": [
       "<matplotlib.figure.Figure at 0x28134873048>"
      ]
     },
     "metadata": {},
     "output_type": "display_data"
    }
   ],
   "source": [
    "plt.bar([1, 2, 4], [5, 6, 5])\n",
    "plt.show"
   ]
  },
  {
   "cell_type": "markdown",
   "metadata": {},
   "source": [
    "### Punktediagramm\n",
    "Mit der `scatter()`-Funktion kannst du dir auch einfach nur die Punkte anzeigen lassen:"
   ]
  },
  {
   "cell_type": "code",
   "execution_count": 11,
   "metadata": {},
   "outputs": [
    {
     "data": {
      "image/png": "[encoded data removed]",
      "text/plain": [
       "<matplotlib.figure.Figure at 0x2813498dda0>"
      ]
     },
     "metadata": {},
     "output_type": "display_data"
    }
   ],
   "source": [
    "plt.scatter([1, 2, 4], [5, 6, 5])\n",
    "plt.show()"
   ]
  },
  {
   "cell_type": "markdown",
   "metadata": {},
   "source": [
    "Alle diese Diagramme kannst du so modifizieren, wie du es in einer früheren Lektion gesehen hast:"
   ]
  },
  {
   "cell_type": "code",
   "execution_count": 3,
   "metadata": {},
   "outputs": [
    {
     "data": {
      "image/png": "[encoded data removed]",
      "text/plain": [
       "<matplotlib.figure.Figure at 0x1f7c9153208>"
      ]
     },
     "metadata": {},
     "output_type": "display_data"
    }
   ],
   "source": [
    "plt.scatter([1, 2, 4], [5, 6, 5], color = \"#ff0000\", marker = \"x\")\n",
    "plt.show()"
   ]
  }
 ],
 "metadata": {
  "kernelspec": {
   "display_name": "Python 3",
   "language": "python",
   "name": "python3"
  },
  "language_info": {
   "codemirror_mode": {
    "name": "ipython",
    "version": 3
   },
   "file_extension": ".py",
   "mimetype": "text/x-python",
   "name": "python",
   "nbconvert_exporter": "python",
   "pygments_lexer": "ipython3",
   "version": "3.6.3"
  }
 },
 "nbformat": 4,
 "nbformat_minor": 2
}
