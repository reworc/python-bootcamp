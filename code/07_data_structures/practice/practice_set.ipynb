{
 "cells": [
  {
   "cell_type": "code",
   "execution_count": 9,
   "id": "91c0be51",
   "metadata": {},
   "outputs": [
    {
     "name": "stdout",
     "output_type": "stream",
     "text": [
      "['Id', 'Name', 'Year', 'Gender', 'State', 'Count']\n",
      "30274\n",
      "5647427\n"
     ]
    }
   ],
   "source": [
    "import csv\n",
    "\n",
    "names = set()\n",
    "\n",
    "with open('../../data/names.csv', 'r', newline='', encoding='utf-8') as file:\n",
    "    reader = csv.reader(file, delimiter=',', quotechar='\"')\n",
    "    count = 0\n",
    "    for row in reader:\n",
    "        count += 1\n",
    "        if count == 1:\n",
    "            print(row)\n",
    "            continue\n",
    "            \n",
    "        names.add(row[1])\n",
    "\n",
    "print(len(names))      \n",
    "print(count)"
   ]
  },
  {
   "cell_type": "code",
   "execution_count": null,
   "id": "f055c50b",
   "metadata": {},
   "outputs": [],
   "source": []
  }
 ],
 "metadata": {
  "kernelspec": {
   "display_name": "Python 3",
   "language": "python",
   "name": "python3"
  },
  "language_info": {
   "codemirror_mode": {
    "name": "ipython",
    "version": 3
   },
   "file_extension": ".py",
   "mimetype": "text/x-python",
   "name": "python",
   "nbconvert_exporter": "python",
   "pygments_lexer": "ipython3",
   "version": "3.8.8"
  }
 },
 "nbformat": 4,
 "nbformat_minor": 5
}
