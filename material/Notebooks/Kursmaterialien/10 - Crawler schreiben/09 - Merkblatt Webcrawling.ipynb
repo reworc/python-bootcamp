{
 "cells": [
  {
   "cell_type": "markdown",
   "metadata": {},
   "source": [
    "## Merkblatt: Webcrawling\n",
    "\n",
    "Crawlen beschreibt den Prozess, bei dem du Daten aus einer Webseite extrahierst. Das können beispielsweise die aktuellen Artikel einer Nachrichtenwebseite sein oder auch einfach nur der aktuelle Börsenkurs. \n",
    "\n",
    "Beim Crawlen ist das Vorgehen wie folgt:\n",
    "\n",
    "1. Zuerst muss die Seite als HTML-Code heruntergeladen werden.\n",
    "2. Anschließend wird der HTML-Code eingelesen und das entsprechende Element gesucht.\n",
    "3. Aus den gefundenen Element(en) werden dann die Informationen extrahiert.\n",
    "4. Wir machen irgendetwas mit diesen Informationen. Beispielsweise können wir sie als .csv-Datei speichern oder direkt verrechnen.\n",
    "\n",
    "Ggf. müssen wir den Crawling-Prozess dann noch etwas anpassen, z. B. wenn die Daten über mehrere Seiten verteilt sind. Dann kann man dem Crawler z. B. sagen, dass auch die nächste Seite noch betrachtet werden soll.\n",
    "\n",
    "\n",
    "### 1.: HTML-Code herunterladen\n",
    "\n",
    "Das Herunterladen des HTML-Codes ist normalerweise in Python recht aufwendig. Glücklicherweise gibt's dafür aber das `requests` - Paket, welches uns seitens Python bereitgestellt wird. Damit können wir eine URL ziemlich einfach herunterladen:"
   ]
  },
  {
   "cell_type": "code",
   "execution_count": 7,
   "metadata": {
    "collapsed": true
   },
   "outputs": [],
   "source": [
    "import requests\n",
    "\n",
    "response = requests.get(\"http://python.beispiel.programmierenlernen.io\")"
   ]
  },
  {
   "cell_type": "markdown",
   "metadata": {},
   "source": [
    "Die Anfrage wurde jetzt an den Server gestellt. Wenn wir überprüfen möchten, ob das ganze soweit geklappt hat, können wir den Statuscode der Antwort genauer untersuchen. \n",
    "\n",
    "Wichtige HTTP Status-Codes sind:\n",
    "\n",
    "- 500: Internal Server Error\n",
    "- 404: Seite nicht gefunden\n",
    "- 200: Alles Okay"
   ]
  },
  {
   "cell_type": "code",
   "execution_count": 15,
   "metadata": {},
   "outputs": [
    {
     "name": "stdout",
     "output_type": "stream",
     "text": [
      "200\n"
     ]
    }
   ],
   "source": [
    "print(response.status_code)"
   ]
  },
  {
   "cell_type": "markdown",
   "metadata": {},
   "source": [
    "Hier hat wohl alles geklappt, die Seite wurde korrekt abgerufen. Wenn wir jetzt auf den Seiteninhalt zugerifen möchten, so können wir das über `response.text` tun. Es wird dann der gesamte Text ausgegeben. Da das hier im Merkblatt zu lang wäre, kürzen wir das auf die ersten 15 Zeilen:"
   ]
  },
  {
   "cell_type": "code",
   "execution_count": 22,
   "metadata": {},
   "outputs": [
    {
     "name": "stdout",
     "output_type": "stream",
     "text": [
      "<!DOCTYPE html>\n",
      "<html lang=\"de\">\n",
      "  <head>\n",
      "    <meta charset=\"utf-8\">\n",
      "    <meta name=\"viewport\" content=\"width=device-width, initial-scale=1, shrink-to-fit=no\">\n",
      "    <meta name=\"description\" content=\"\">\n",
      "    <meta name=\"author\" content=\"\">\n",
      "    \n",
      "    <title>Crawler-Auflistung</title>\n",
      "\n",
      "    <!-- Bootstrap core CSS -->\n",
      "    <link href=\"./lib/bootstrap/css/bootstrap.min.css\" rel=\"stylesheet\">\n",
      "    <link href=\"./css/narrow-jumbotron.css\" rel=\"stylesheet\">\n",
      "  </head>\n",
      "\n"
     ]
    }
   ],
   "source": [
    "print(\"\\n\".join(response.text.split(\"\\n\")[:15]))"
   ]
  },
  {
   "cell_type": "markdown",
   "metadata": {},
   "source": [
    "### 2.: HTML-Elemente mit unseren Daten finden\n",
    "\n",
    "Jetzt haben wir den gesamten HTML-Code heruntergeladen und möchten daraus die passenden Element extrahieren. Dazu bieten sich CSS-Selektoren an, mit denen wir sehr komfortabel auf Elemente zugreifen können. \n",
    "\n",
    "Beispiel:\n",
    "\n",
    "- `<div class=\"test\">Hallo</div>`: Dieses Element können wir mit Hilfe von `.test` finden, der Punkt steht hierbei dafür, dass wir nach einer Klasse suchen\n",
    "\n",
    "- `<div class=\"id\">Hallo</div>`: Dieses Element können wir mit Hilfe von `#test` finden, die Raute steht hierbei dafür, dass wir ein Element nach dem ID-Attribut suchen\n"
   ]
  },
  {
   "cell_type": "code",
   "execution_count": null,
   "metadata": {
    "collapsed": true
   },
   "outputs": [],
   "source": []
  }
 ],
 "metadata": {
  "kernelspec": {
   "display_name": "Python 3",
   "language": "python",
   "name": "python3"
  },
  "language_info": {
   "codemirror_mode": {
    "name": "ipython",
    "version": 3
   },
   "file_extension": ".py",
   "mimetype": "text/x-python",
   "name": "python",
   "nbconvert_exporter": "python",
   "pygments_lexer": "ipython3",
   "version": "3.6.3"
  }
 },
 "nbformat": 4,
 "nbformat_minor": 2
}
