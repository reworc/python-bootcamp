{
 "cells": [
  {
   "cell_type": "code",
   "execution_count": 20,
   "metadata": {},
   "outputs": [
    {
     "name": "stdout",
     "output_type": "stream",
     "text": [
      "Erik Mustermann\n",
      "Monika Müller\n"
     ]
    }
   ],
   "source": [
    "class Student():    \n",
    "    def get_name(self):\n",
    "        print(self.firstname + \" \" + self.lastname)\n",
    "\n",
    "erik = Student()\n",
    "erik.firstname = \"Erik\"\n",
    "erik.lastname = \"Mustermann\"\n",
    "\n",
    "erik.get_name()\n",
    "\n",
    "monika = Student()\n",
    "monika.firstname = \"Monika\"\n",
    "monika.lastname = \"Müller\"\n",
    "monika.get_name()\n"
   ]
  },
  {
   "cell_type": "code",
   "execution_count": 21,
   "metadata": {},
   "outputs": [
    {
     "name": "stdout",
     "output_type": "stream",
     "text": [
      "Max Müller GmbH\n"
     ]
    }
   ],
   "source": [
    "class Company():\n",
    "\n",
    "    def get_name(self):\n",
    "        print(self.legal_name + \" \" + self.legal_type)\n",
    "    \n",
    "c = Company()\n",
    "c.legal_name = \"Max Müller\"\n",
    "c.legal_type = \"GmbH\"\n",
    "\n",
    "c.get_name()"
   ]
  },
  {
   "cell_type": "code",
   "execution_count": 26,
   "metadata": {},
   "outputs": [
    {
     "name": "stdout",
     "output_type": "stream",
     "text": [
      "Erik Mustermann(2)\n",
      "Monika Müller(1)\n"
     ]
    }
   ],
   "source": [
    "class Student():        \n",
    "    def __init__(self, firstname, lastname):\n",
    "        self.firstname = firstname\n",
    "        self.lastname = lastname\n",
    "        self.term = 1\n",
    "        \n",
    "    def increase_term(self):\n",
    "        self.term += 1\n",
    "    \n",
    "    def get_name(self):\n",
    "        print(self.firstname + \" \" + self.lastname + \"(\" + str(self.term) + \")\")\n",
    "\n",
    "erik = Student(\"Erik\", \"Mustermann\")\n",
    "erik.increase_term()\n",
    "erik.get_name()\n",
    "\n",
    "monika = Student(\"Monika\", \"Müller\")\n",
    "monika.get_name()"
   ]
  },
  {
   "cell_type": "code",
   "execution_count": null,
   "metadata": {},
   "outputs": [],
   "source": []
  }
 ],
 "metadata": {
  "kernelspec": {
   "display_name": "Python 3",
   "language": "python",
   "name": "python3"
  },
  "language_info": {
   "codemirror_mode": {
    "name": "ipython",
    "version": 3
   },
   "file_extension": ".py",
   "mimetype": "text/x-python",
   "name": "python",
   "nbconvert_exporter": "python",
   "pygments_lexer": "ipython3",
   "version": "3.8.5"
  }
 },
 "nbformat": 4,
 "nbformat_minor": 4
}
