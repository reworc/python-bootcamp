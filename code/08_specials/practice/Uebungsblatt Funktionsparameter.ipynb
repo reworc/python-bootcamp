{
 "cells": [
  {
   "cell_type": "markdown",
   "metadata": {},
   "source": [
    "# Übungsblatt Funktionsparameter & Sortierfunktionen\n",
    "\n",
    "In diesem Übungsblatt habe ich ein paar Aufgaben für dich vorbereitet. Viel Spaß bei diesen Übungen! :-)\n",
    "\n",
    "Wenn du mit diesem Übungsblatt fertig bist, kannst du deine Lösung mit der Musterlösung in Textform (Datei: `Uebungsblatt Funktionsparameter (Musterloesung)`) vergleichen. \n",
    "\n",
    "Die Video-Musterlösung (in der nächsten Lektion) ist besonders ausführlich gehalten. Wenn du alles richtig gelöst hast, ist es vollkommen okay, wenn du diese Lektion überspringst. :-)"
   ]
  },
  {
   "cell_type": "markdown",
   "metadata": {
    "collapsed": true
   },
   "source": [
    "### Aufgabe 1\n",
    "\n",
    "Vervollständige die Funktion `shortest_word()`: Ihr sollen mehrere Strings übergeben werden (KEINE Liste von Strings!), von denen sie den String mit den wenigsten Zeichen zurückliefert.\n",
    "\n",
    "Hinweis: Benutze variable Parameter (mit Sternchen `*` oder doppelten Sternche `**`)!"
   ]
  },
  {
   "cell_type": "code",
   "execution_count": 3,
   "metadata": {},
   "outputs": [
    {
     "name": "stdout",
     "output_type": "stream",
     "text": [
      "Jo\n"
     ]
    }
   ],
   "source": [
    "def shortest_word(*words):\n",
    "    # Ersetze pass durch deinen Code\n",
    "    result = sorted(words, key=lambda x: len(x))\n",
    "    return result[0]\n",
    "    \n",
    "print(shortest_word(\"Max\", \"Moritz\", \"Monika\", \"Tim\", \"Jo\"))\n"
   ]
  },
  {
   "cell_type": "markdown",
   "metadata": {},
   "source": [
    "Erwartete Ausgabe:\n",
    "\n",
    "```\n",
    "Jo\n",
    "```"
   ]
  },
  {
   "cell_type": "markdown",
   "metadata": {},
   "source": [
    "### Aufgabe 2"
   ]
  },
  {
   "cell_type": "markdown",
   "metadata": {},
   "source": [
    "**a.)**\n",
    "\n",
    "Sortiere die Tupel in der Liste `tupels` aufsteigend nach ihrer Summe!\n",
    "\n",
    "**Hinweis:**  Schreibe dazu zuerst eine normale Funktion und löse die Aufgabe anschließend nochmal mit einer lambda-Funktion."
   ]
  },
  {
   "cell_type": "code",
   "execution_count": 6,
   "metadata": {},
   "outputs": [
    {
     "name": "stdout",
     "output_type": "stream",
     "text": [
      "[(4, 1), (3, 3), (10, 2), (5, 7), (11, 3), (0, 17)]\n",
      "[(4, 1), (3, 3), (10, 2), (5, 7), (11, 3), (0, 17)]\n"
     ]
    }
   ],
   "source": [
    "tupels = [(10, 2), (4, 1), (0, 17), (3, 3), (5, 7), (11, 3)]\n",
    "\n",
    "def tuple_sum(tpl):\n",
    "    return tpl[0]+tpl[1]\n",
    "\n",
    "print(sorted(tupels, key=tuple_sum))\n",
    "\n",
    "print(sorted(tupels, key=lambda tpl: tpl[0]+tpl[1]))"
   ]
  },
  {
   "cell_type": "markdown",
   "metadata": {
    "collapsed": true
   },
   "source": [
    "Erwartete Ausgabe (braucht nicht farbig zu sein):\n",
    "\n",
    "```python\n",
    "[(4, 1), (3, 3), (10, 2), (5, 7), (11, 3), (0, 17)]\n",
    "```"
   ]
  },
  {
   "cell_type": "markdown",
   "metadata": {},
   "source": [
    "**b.)** \n",
    "\n",
    "Sortiere die Liste `names` mit Namen nach dem Nachnamen. Du kannst annehmen, dass alle Namen in der Liste nur einen Vornamen enthalten. Das Format der Namen ist immer \"Vorname Nachname\".\n",
    "\n",
    "Überlege dir dazu zuerst, wie du den Nachnamen ermittelst und schreibe dann die entsprechende Funktion, die du der `.sort()`- Funktion übergibst.\n",
    "\n",
    "**Hinweis:**  Schreibe dazu zuerst eine normale Funktion und löse die Aufgabe anschließend nochmal mit einer lambda-Funktion."
   ]
  },
  {
   "cell_type": "code",
   "execution_count": 1,
   "metadata": {},
   "outputs": [
    {
     "name": "stdout",
     "output_type": "stream",
     "text": [
      "['Anton Adel', 'Anna Boa', 'Conny Coder', 'Willy Cordes', 'Elif Else', 'Sebastian Klarnamen', 'Anne Wortmann']\n"
     ]
    }
   ],
   "source": [
    "names = [\"Elif Else\", \"Sebastian Klarnamen\", \"Anna Boa\", \"Anton Adel\", \"Conny Coder\", \"Anne Wortmann\", \"Willy Cordes\"]\n",
    "\n",
    "def sort_last_name(full_name):\n",
    "    return full_name.split(\" \")[1]\n",
    "\n",
    "# names.sort(key=sort_last_name)\n",
    "names.sort(key=lambda s: s.split(\" \")[-1])\n",
    "\n",
    "print(names)"
   ]
  },
  {
   "cell_type": "markdown",
   "metadata": {},
   "source": [
    "Erwartete Ausgabe:\n",
    "\n",
    "```python\n",
    "['Anna Boa', 'Conny Coder', 'Willy Cordes', 'Elif Else', 'Sebastian Klarnamen', 'Anton Adel', 'Anne Wortmann']\n",
    "```"
   ]
  },
  {
   "cell_type": "markdown",
   "metadata": {},
   "source": [
    "**c.)**\n",
    "\n",
    "Sortiere die Liste `sentences` absteigend nach der Anzahl der Wörter, die ein Element aus `sentences` jeweils enthält. Du kannst annehmen, dass in den Sätzen alle Wörter ordnungsgemäß mit Leerzeichen voneinander getrennt sind. :-)\n",
    "\n",
    "Überlege dir dazu zuerst, wie du die Anzahl Wörter in einem Satz ermitteln kannst.\n",
    "\n",
    "**Hinweis:**  Schreibe dazu zuerst eine normale Funktion und löse die Aufgabe anschließend nochmal mit einer lambda-Funktion."
   ]
  },
  {
   "cell_type": "code",
   "execution_count": 3,
   "metadata": {},
   "outputs": [
    {
     "name": "stdout",
     "output_type": "stream",
     "text": [
      "['Sie lachte.', 'Er rutschte aus.', 'Der Hund bellte laut.', 'Sie liefen weiter den Strand entlang.']\n"
     ]
    }
   ],
   "source": [
    "sentences = [\"Sie liefen weiter den Strand entlang.\", \"Der Hund bellte laut.\", \"Er rutschte aus.\", \"Sie lachte.\"]\n",
    "\n",
    "def num_words(sentence):\n",
    "    return len(sentence.split(\" \"))\n",
    "\n",
    "# sentences.sort(key=num_words)\n",
    "sentences.sort(key=lambda s: len(s.split(\" \")))\n",
    "\n",
    "print(sentences)"
   ]
  },
  {
   "cell_type": "markdown",
   "metadata": {},
   "source": [
    "Erwartete Ausgabe:\n",
    "\n",
    "```python\n",
    "['Sie liefen weiter den Strand entlang.', 'Der Hund bellte laut.', 'Er rutschte aus.', 'Sie lachte.']\n",
    "```"
   ]
  },
  {
   "cell_type": "markdown",
   "metadata": {},
   "source": [
    "### Zusatzaufgabe (schwer)\n",
    "\n",
    "Verändere den folgenden Code so, dass die Liste `l` nicht mehr innerhalb der Funktion `make_row()` überschrieben wird. Die Liste, die `make_row()` ausgibt, soll also identisch mit der bisherigen sein. `l` soll aber am Ende in seiner ursprünglichen Form ausgegeben werden."
   ]
  },
  {
   "cell_type": "code",
   "execution_count": 10,
   "metadata": {},
   "outputs": [
    {
     "name": "stdout",
     "output_type": "stream",
     "text": [
      "['o', 'x', 'x']\n",
      "['o', 'x', 'o']\n"
     ]
    }
   ],
   "source": [
    "l = [\"o\", \"x\", \"o\"]\n",
    "\n",
    "def make_row(row):\n",
    "    row = [ val for val in row ]\n",
    "    # alternatives: \n",
    "    # row = row[:]\n",
    "    # row = row.copy()\n",
    "    row[2] = \"x\"\n",
    "    print(row)\n",
    "    \n",
    "make_row(l)\n",
    "print(l)"
   ]
  },
  {
   "cell_type": "markdown",
   "metadata": {},
   "source": [
    "Erwartete Ausgabe:\n",
    "\n",
    "```python\n",
    "['o', 'x', 'x']\n",
    "['o', 'x', 'o']\n",
    "```"
   ]
  },
  {
   "cell_type": "code",
   "execution_count": null,
   "metadata": {
    "collapsed": true
   },
   "outputs": [],
   "source": []
  }
 ],
 "metadata": {
  "kernelspec": {
   "display_name": "Python 3",
   "language": "python",
   "name": "python3"
  },
  "language_info": {
   "codemirror_mode": {
    "name": "ipython",
    "version": 3
   },
   "file_extension": ".py",
   "mimetype": "text/x-python",
   "name": "python",
   "nbconvert_exporter": "python",
   "pygments_lexer": "ipython3",
   "version": "3.8.8"
  }
 },
 "nbformat": 4,
 "nbformat_minor": 2
}
