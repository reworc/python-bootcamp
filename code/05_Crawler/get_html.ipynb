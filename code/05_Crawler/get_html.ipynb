{
 "cells": [
  {
   "cell_type": "code",
   "execution_count": 29,
   "metadata": {},
   "outputs": [
    {
     "name": "stdout",
     "output_type": "stream",
     "text": [
      "http://python.beispiel.programmierenlernen.io/img/1.jpg\n",
      "http://python.beispiel.programmierenlernen.io/img/2.jpg\n",
      "http://python.beispiel.programmierenlernen.io/img/3.jpg\n",
      "http://python.beispiel.programmierenlernen.io/img/4.jpg\n",
      "http://python.beispiel.programmierenlernen.io/img/5.jpg\n",
      "http://python.beispiel.programmierenlernen.io/img/6.jpg\n",
      "http://python.beispiel.programmierenlernen.io/img/7.jpg\n"
     ]
    }
   ],
   "source": [
    "import requests\n",
    "from bs4 import BeautifulSoup\n",
    "from urllib.parse import urljoin\n",
    "\n",
    "class CrawledArticle():\n",
    "    def __init__(self, title, emoji, content, image):\n",
    "        self.title = title\n",
    "        self.emoji = emoji\n",
    "        self.content = content\n",
    "        self.image = image\n",
    "\n",
    "class ArticleFetcher():\n",
    "    def __init__(self, pgurl):\n",
    "        self.url = pgurl\n",
    "    \n",
    "    def fetch(self):\n",
    "        r = requests.get(url)\n",
    "        doc = BeautifulSoup(r.text, \"html.parser\")\n",
    "        \n",
    "        articles = []\n",
    "\n",
    "        for card in doc.select(\".card\"):\n",
    "            emoji = card.select_one(\".emoji\").text\n",
    "            content = card.select_one(\".card-text\").text\n",
    "            title = card.select(\".card-title span\")[1].text\n",
    "            img = urljoin(self.url, card.select_one(\"img\").attrs[\"src\"])\n",
    "\n",
    "            art = CrawledArticle(title, emoji, content, img)\n",
    "            articles.append(art)\n",
    "            \n",
    "        return articles\n",
    "\n",
    "\n",
    "\n",
    "# print(r.status_code)\n",
    "# print(r.headers)\n",
    "# print(r.text)\n",
    "\n",
    "fetcher = ArticleFetcher(\"http://python.beispiel.programmierenlernen.io/\")\n",
    "articles = fetcher.fetch()\n",
    "    \n",
    "for art in articles:\n",
    "    print(art.image)"
   ]
  },
  {
   "cell_type": "code",
   "execution_count": null,
   "metadata": {},
   "outputs": [],
   "source": []
  }
 ],
 "metadata": {
  "kernelspec": {
   "display_name": "Python 3",
   "language": "python",
   "name": "python3"
  },
  "language_info": {
   "codemirror_mode": {
    "name": "ipython",
    "version": 3
   },
   "file_extension": ".py",
   "mimetype": "text/x-python",
   "name": "python",
   "nbconvert_exporter": "python",
   "pygments_lexer": "ipython3",
   "version": "3.8.5"
  }
 },
 "nbformat": 4,
 "nbformat_minor": 4
}
