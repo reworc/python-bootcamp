{
 "cells": [
  {
   "cell_type": "code",
   "execution_count": 32,
   "metadata": {},
   "outputs": [
    {
     "name": "stdout",
     "output_type": "stream",
     "text": [
      "Hallo welt!\n",
      "\n",
      "Datei eingelesen\n"
     ]
    }
   ],
   "source": [
    "file = open(\"example.txt\", \"r\")\n",
    "for line in file:\n",
    "    print(line)"
   ]
  },
  {
   "cell_type": "code",
   "execution_count": 33,
   "metadata": {},
   "outputs": [],
   "source": [
    "# print(file)"
   ]
  },
  {
   "cell_type": "code",
   "execution_count": 35,
   "metadata": {},
   "outputs": [
    {
     "name": "stdout",
     "output_type": "stream",
     "text": [
      "Hallo welt!\n",
      "Datei eingelesen\n"
     ]
    }
   ],
   "source": [
    "file = open(\"example.txt\", \"r\")\n",
    "for line in file:\n",
    "    str = line.strip()\n",
    "    print(str)"
   ]
  },
  {
   "cell_type": "code",
   "execution_count": 40,
   "metadata": {},
   "outputs": [],
   "source": [
    "names = [ \"Max\", \"Monika\", \"Erik\", \"Franziska\" ]\n",
    "file = open(\"schreiben.txt\", \"w\")\n",
    "file.write(\"\\n\".join(names))\n",
    "file.close()"
   ]
  },
  {
   "cell_type": "code",
   "execution_count": 41,
   "metadata": {},
   "outputs": [],
   "source": [
    "file = open(\"schreiben.txt\", \"a\")\n",
    "file.write(\"\\nMoritz\")\n",
    "file.close()"
   ]
  },
  {
   "cell_type": "code",
   "execution_count": 44,
   "metadata": {},
   "outputs": [
    {
     "name": "stdout",
     "output_type": "stream",
     "text": [
      "Max\n",
      "Monika\n",
      "Erik\n",
      "Franziska\n",
      "Moritz\n"
     ]
    }
   ],
   "source": [
    "with open(\"schreiben.txt\", \"r\") as file:\n",
    "    for line in file:\n",
    "        str = line.strip()\n",
    "        print(str)"
   ]
  },
  {
   "cell_type": "code",
   "execution_count": 46,
   "metadata": {},
   "outputs": [
    {
     "name": "stdout",
     "output_type": "stream",
     "text": [
      "[['Muenchen', 1800000, 'MUC'], ['Berlin', 300000, 'BER'], ['Budapest', 200000, 'BUD']]\n"
     ]
    }
   ],
   "source": [
    "cities = []\n",
    "with open(\"datei.csv\", \"r\") as file:\n",
    "    for line in file:\n",
    "        data = line.strip().split(\";\")\n",
    "        data[1] = int(data[1])\n",
    "        cities.append(data)\n",
    "        \n",
    "print(cities)"
   ]
  },
  {
   "cell_type": "code",
   "execution_count": null,
   "metadata": {},
   "outputs": [],
   "source": []
  }
 ],
 "metadata": {
  "kernelspec": {
   "display_name": "Python 3",
   "language": "python",
   "name": "python3"
  },
  "language_info": {
   "codemirror_mode": {
    "name": "ipython",
    "version": 3
   },
   "file_extension": ".py",
   "mimetype": "text/x-python",
   "name": "python",
   "nbconvert_exporter": "python",
   "pygments_lexer": "ipython3",
   "version": "3.8.5"
  }
 },
 "nbformat": 4,
 "nbformat_minor": 4
}
