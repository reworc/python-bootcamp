{
 "cells": [
  {
   "cell_type": "code",
   "execution_count": 1,
   "id": "9e69e556",
   "metadata": {},
   "outputs": [
    {
     "name": "stdout",
     "output_type": "stream",
     "text": [
      "<queue.Queue object at 0x0000021923F03CA0>\n",
      "Hallo\n"
     ]
    }
   ],
   "source": [
    "import queue\n",
    "q = queue.Queue()\n",
    "\n",
    "q.put(\"Hallo\")\n",
    "q.put(\"Welt\")\n",
    "q.put(\"Hallo\")\n",
    "q.put(\"Mars\")\n",
    "q.put(\"Pluto\")\n",
    "\n",
    "print(q)\n",
    "\n",
    "print(q.get())\n"
   ]
  },
  {
   "cell_type": "code",
   "execution_count": 2,
   "id": "43754750",
   "metadata": {},
   "outputs": [
    {
     "name": "stdout",
     "output_type": "stream",
     "text": [
      "Welt\n",
      "Hallo\n",
      "Mars\n",
      "Pluto\n"
     ]
    }
   ],
   "source": [
    "while not q.empty():\n",
    "    print(q.get())"
   ]
  },
  {
   "cell_type": "code",
   "execution_count": null,
   "id": "a2ca44be",
   "metadata": {},
   "outputs": [],
   "source": []
  }
 ],
 "metadata": {
  "kernelspec": {
   "display_name": "Python 3",
   "language": "python",
   "name": "python3"
  },
  "language_info": {
   "codemirror_mode": {
    "name": "ipython",
    "version": 3
   },
   "file_extension": ".py",
   "mimetype": "text/x-python",
   "name": "python",
   "nbconvert_exporter": "python",
   "pygments_lexer": "ipython3",
   "version": "3.8.8"
  }
 },
 "nbformat": 4,
 "nbformat_minor": 5
}
