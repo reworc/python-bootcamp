{
 "cells": [
  {
   "cell_type": "code",
   "execution_count": 1,
   "id": "d9f9772c",
   "metadata": {},
   "outputs": [
    {
     "name": "stdout",
     "output_type": "stream",
     "text": [
      "['Max', 'Monika', 'Erik', 'Franziska']\n",
      "['Erik', 'Franziska', 'Max', 'Monika']\n"
     ]
    }
   ],
   "source": [
    "l= [\"Max\", \"Monika\", \"Erik\", \"Franziska\" ]\n",
    "print(l)\n",
    "l.sort()\n",
    "print(l)"
   ]
  },
  {
   "cell_type": "code",
   "execution_count": 2,
   "id": "5f7429ab",
   "metadata": {},
   "outputs": [],
   "source": [
    "l.sort(reverse=True)"
   ]
  },
  {
   "cell_type": "code",
   "execution_count": 3,
   "id": "27b46871",
   "metadata": {},
   "outputs": [
    {
     "name": "stdout",
     "output_type": "stream",
     "text": [
      "['Monika', 'Max', 'Franziska', 'Erik']\n"
     ]
    }
   ],
   "source": [
    "print(l)"
   ]
  },
  {
   "cell_type": "code",
   "execution_count": 4,
   "id": "db97fa7b",
   "metadata": {},
   "outputs": [],
   "source": [
    "def custom_sort(item):\n",
    "    return len(item)\n",
    "l.sort(key=custom_sort)"
   ]
  },
  {
   "cell_type": "code",
   "execution_count": 5,
   "id": "3458221e",
   "metadata": {},
   "outputs": [
    {
     "name": "stdout",
     "output_type": "stream",
     "text": [
      "['Max', 'Erik', 'Monika', 'Franziska']\n"
     ]
    }
   ],
   "source": [
    "print(l)"
   ]
  },
  {
   "cell_type": "code",
   "execution_count": 6,
   "id": "625e3074",
   "metadata": {},
   "outputs": [
    {
     "name": "stdout",
     "output_type": "stream",
     "text": [
      "['Budapest', 'Köln', 'Saigon']\n"
     ]
    }
   ],
   "source": [
    "d = {\"Köln\": \"CGN\", \"Budapest\": \"BUD\", \"Saigon\": \"SGN\"}\n",
    "print(sorted(d))"
   ]
  },
  {
   "cell_type": "code",
   "execution_count": 10,
   "id": "9783ee77",
   "metadata": {},
   "outputs": [
    {
     "name": "stdout",
     "output_type": "stream",
     "text": [
      "[('Franziska', 1), ('Monika', 2), ('Max', 3), ('Erik', 3)]\n"
     ]
    }
   ],
   "source": [
    "students = [\n",
    "    (\"Max\", 3),\n",
    "    (\"Monika\", 2),\n",
    "    (\"Erik\", 3),\n",
    "    (\"Franziska\", 1)\n",
    "]\n",
    "\n",
    "def students_sort_by_term(tpl_student):\n",
    "    return tpl_student[1]\n",
    "\n",
    "# students.sort(key = students_sort_by_term)\n",
    "\n",
    "students.sort(key = lambda student: student[1])\n",
    "\n",
    "print(students)"
   ]
  },
  {
   "cell_type": "code",
   "execution_count": 12,
   "id": "2c9c6b38",
   "metadata": {},
   "outputs": [
    {
     "data": {
      "text/plain": [
       "4"
      ]
     },
     "execution_count": 12,
     "metadata": {},
     "output_type": "execute_result"
    }
   ],
   "source": [
    "max = lambda a,b: a if (a > b) else b\n",
    "max(3,4)"
   ]
  },
  {
   "cell_type": "code",
   "execution_count": 13,
   "id": "dadb53bb",
   "metadata": {},
   "outputs": [
    {
     "ename": "TypeError",
     "evalue": "<lambda>() missing 1 required positional argument: 'b'",
     "output_type": "error",
     "traceback": [
      "\u001b[1;31m---------------------------------------------------------------------------\u001b[0m",
      "\u001b[1;31mTypeError\u001b[0m                                 Traceback (most recent call last)",
      "\u001b[1;32m<ipython-input-13-ce14723b255a>\u001b[0m in \u001b[0;36m<module>\u001b[1;34m\u001b[0m\n\u001b[1;32m----> 1\u001b[1;33m \u001b[0mmax\u001b[0m\u001b[1;33m(\u001b[0m\u001b[1;36m3\u001b[0m\u001b[1;33m)\u001b[0m\u001b[1;33m\u001b[0m\u001b[1;33m\u001b[0m\u001b[0m\n\u001b[0m",
      "\u001b[1;31mTypeError\u001b[0m: <lambda>() missing 1 required positional argument: 'b'"
     ]
    }
   ],
   "source": [
    "max(3)"
   ]
  },
  {
   "cell_type": "code",
   "execution_count": 14,
   "id": "4c5665e2",
   "metadata": {},
   "outputs": [
    {
     "ename": "SyntaxError",
     "evalue": "invalid syntax (<ipython-input-14-7dbfcc6adb5c>, line 1)",
     "output_type": "error",
     "traceback": [
      "\u001b[1;36m  File \u001b[1;32m\"<ipython-input-14-7dbfcc6adb5c>\"\u001b[1;36m, line \u001b[1;32m1\u001b[0m\n\u001b[1;33m    max2 = lambda a,b,c:\u001b[0m\n\u001b[1;37m                        ^\u001b[0m\n\u001b[1;31mSyntaxError\u001b[0m\u001b[1;31m:\u001b[0m invalid syntax\n"
     ]
    }
   ],
   "source": [
    "max2 = lambda a,b,c:\n",
    "    if a > b:\n",
    "        return a if (a > c) else c\n",
    "    else: \n",
    "        return b if (b > c) else c"
   ]
  },
  {
   "cell_type": "code",
   "execution_count": 8,
   "id": "1e79475a",
   "metadata": {},
   "outputs": [
    {
     "name": "stdout",
     "output_type": "stream",
     "text": [
      "[Franziska Schulze [4], Greta Anton [3], Hans Müller [1], Max Maier [2]]\n",
      "[Greta Anton [3], Max Maier [2], Hans Müller [1], Franziska Schulze [4]]\n",
      "[Hans Müller [1], Max Maier [2], Greta Anton [3], Franziska Schulze [4]]\n"
     ]
    }
   ],
   "source": [
    "class Student:\n",
    "    \n",
    "    def __init__(self, fname, lname, term = 1):\n",
    "        self.forename = fname\n",
    "        self.lastname = lname\n",
    "        self.term = term\n",
    "        \n",
    "    def __str__(self):\n",
    "        return f'{self.forename} {self.lastname} [{self.term}]'\n",
    "    \n",
    "    def __repr__(self):\n",
    "        return self.__str__()\n",
    "        \n",
    "s = []\n",
    "s.append(Student(\"Max\",\"Maier\", 2))\n",
    "s.append(Student(\"Hans\",\"Müller\", 1))\n",
    "s.append(Student(\"Franziska\",\"Schulze\", 4))\n",
    "s.append(Student(\"Greta\",\"Anton\", 3))\n",
    "\n",
    "s.sort(key=lambda st: st.forename)\n",
    "print(s)\n",
    "s.sort(key=lambda st: st.lastname)\n",
    "print(s)\n",
    "s.sort(key=lambda st: st.term)\n",
    "print(s)\n"
   ]
  },
  {
   "cell_type": "code",
   "execution_count": null,
   "id": "278e5655",
   "metadata": {},
   "outputs": [],
   "source": []
  }
 ],
 "metadata": {
  "kernelspec": {
   "display_name": "Python 3",
   "language": "python",
   "name": "python3"
  },
  "language_info": {
   "codemirror_mode": {
    "name": "ipython",
    "version": 3
   },
   "file_extension": ".py",
   "mimetype": "text/x-python",
   "name": "python",
   "nbconvert_exporter": "python",
   "pygments_lexer": "ipython3",
   "version": "3.8.8"
  }
 },
 "nbformat": 4,
 "nbformat_minor": 5
}
