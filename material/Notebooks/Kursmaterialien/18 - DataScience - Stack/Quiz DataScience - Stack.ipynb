{
 "cells": [
  {
   "cell_type": "markdown",
   "metadata": {},
   "source": [
    "## Quiz: Der DataScience - Stack\n",
    "\n",
    "Viele Probleme lassen sich durch die Verwendung der richtigen Tools sehr viel einfacher lösen. Daher gibt's in dieser Lektion ein kleines Quiz, wo wir uns genau das nochmal anschauen. :-)"
   ]
  },
  {
   "cell_type": "markdown",
   "metadata": {},
   "source": [
    "#### Aufgabe 1: Wann welches Tool?\n",
    "\n",
    "Du möchtest eine Grafik zeichnen. Welches Tool verwendest du dazu?\n",
    "\n",
    "- A) Pandas\n",
    "- B) Numpy\n",
    "- C) Matplotlib"
   ]
  },
  {
   "cell_type": "markdown",
   "metadata": {},
   "source": [
    "Richtige Antwort: C"
   ]
  },
  {
   "cell_type": "markdown",
   "metadata": {},
   "source": [
    "#### Aufgabe 2: Wann welches Tool?\n",
    "\n",
    "Du möchtest eine CSV-Datei einlesen und die Daten komfortabel verarbeiten. Welches Tool verwendest du dazu?\n",
    "\n",
    "- A) Pandas\n",
    "- B) Numpy\n",
    "- C) Matplotlib"
   ]
  },
  {
   "cell_type": "markdown",
   "metadata": {},
   "source": [
    "Richtige Antwort: A"
   ]
  },
  {
   "cell_type": "markdown",
   "metadata": {},
   "source": [
    "#### Aufgabe 3: Wann welches Tool?\n",
    "\n",
    "Du hast eine Python-Liste und möchtest für jeden Eintrag ein paar mathematische Berechnungen ausführen. Du möchtest beispielsweise jeden Eintrag mit 2 multiplizieren und anschließend das Quadrat bilden. \n",
    "\n",
    "Welches Tool unterstützt dich hierbei perfekt?\n",
    "\n",
    "- A) Pandas\n",
    "- B) Numpy\n",
    "- C) Matplotlib"
   ]
  },
  {
   "cell_type": "markdown",
   "metadata": {},
   "source": [
    "Richtige Antwort: B"
   ]
  },
  {
   "cell_type": "code",
   "execution_count": null,
   "metadata": {
    "collapsed": true
   },
   "outputs": [],
   "source": []
  }
 ],
 "metadata": {
  "kernelspec": {
   "display_name": "Python 3",
   "language": "python",
   "name": "python3"
  },
  "language_info": {
   "codemirror_mode": {
    "name": "ipython",
    "version": 3
   },
   "file_extension": ".py",
   "mimetype": "text/x-python",
   "name": "python",
   "nbconvert_exporter": "python",
   "pygments_lexer": "ipython3",
   "version": "3.6.3"
  }
 },
 "nbformat": 4,
 "nbformat_minor": 2
}
