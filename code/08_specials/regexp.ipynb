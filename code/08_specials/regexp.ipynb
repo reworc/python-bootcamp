{
 "cells": [
  {
   "cell_type": "code",
   "execution_count": 1,
   "id": "28619c0e",
   "metadata": {},
   "outputs": [
    {
     "data": {
      "text/plain": [
       "['30', '4', '2']"
      ]
     },
     "execution_count": 1,
     "metadata": {},
     "output_type": "execute_result"
    }
   ],
   "source": [
    "import re\n",
    "sentence = \"Ich habe 30 Hunde, die jeweils 4 Liter Wasser brauchen und 2 kg Nahrung\"\n",
    "\n",
    "re.findall(\"[0-9]+\", sentence)"
   ]
  },
  {
   "cell_type": "code",
   "execution_count": 2,
   "id": "4d8466f7",
   "metadata": {},
   "outputs": [
    {
     "data": {
      "text/plain": [
       "<re.Match object; span=(9, 11), match='30'>"
      ]
     },
     "execution_count": 2,
     "metadata": {},
     "output_type": "execute_result"
    }
   ],
   "source": [
    "re.search(\"[0-9]+\", sentence)"
   ]
  },
  {
   "cell_type": "code",
   "execution_count": 4,
   "id": "97f0382a",
   "metadata": {},
   "outputs": [
    {
     "data": {
      "text/plain": [
       "['de']"
      ]
     },
     "execution_count": 4,
     "metadata": {},
     "output_type": "execute_result"
    }
   ],
   "source": [
    "re.findall(\"der?\", sentence)"
   ]
  },
  {
   "cell_type": "code",
   "execution_count": 8,
   "id": "9a08db46",
   "metadata": {},
   "outputs": [
    {
     "name": "stdout",
     "output_type": "stream",
     "text": [
      "<re.Match object; span=(6, 8), match='de'>\n"
     ]
    }
   ],
   "source": [
    "print(re.search(\"der*\", \"Hallo de Hall\"))"
   ]
  },
  {
   "cell_type": "code",
   "execution_count": 9,
   "id": "d0ff0284",
   "metadata": {},
   "outputs": [
    {
     "name": "stdout",
     "output_type": "stream",
     "text": [
      "None\n",
      "<re.Match object; span=(6, 9), match='der'>\n",
      "<re.Match object; span=(6, 14), match='derrrrrr'>\n"
     ]
    }
   ],
   "source": [
    "print(re.search(\"der+\", \"Hallo de Hall\"))\n",
    "print(re.search(\"der+\", \"Hallo der Hall\"))\n",
    "print(re.search(\"der+\", \"Hallo derrrrrr Hall\"))"
   ]
  },
  {
   "cell_type": "code",
   "execution_count": 11,
   "id": "f5c68f08",
   "metadata": {},
   "outputs": [
    {
     "name": "stdout",
     "output_type": "stream",
     "text": [
      "<re.Match object; span=(6, 7), match='1'>\n",
      "<re.Match object; span=(6, 7), match='1'>\n",
      "<re.Match object; span=(6, 9), match='123'>\n",
      "<re.Match object; span=(6, 9), match='123'>\n"
     ]
    }
   ],
   "source": [
    "print(re.search(\"[0123456789]\", \"Hallo 123 Hall\"))\n",
    "print(re.search(\"[0-9]\", \"Hallo 123 Hall\"))\n",
    "print(re.search(\"[0123456789]+\", \"Hallo 123 Hall\"))\n",
    "print(re.search(\"[0-9]+\", \"Hallo 123 Hall\"))"
   ]
  },
  {
   "cell_type": "code",
   "execution_count": null,
   "id": "5194c399",
   "metadata": {},
   "outputs": [],
   "source": []
  }
 ],
 "metadata": {
  "kernelspec": {
   "display_name": "Python 3",
   "language": "python",
   "name": "python3"
  },
  "language_info": {
   "codemirror_mode": {
    "name": "ipython",
    "version": 3
   },
   "file_extension": ".py",
   "mimetype": "text/x-python",
   "name": "python",
   "nbconvert_exporter": "python",
   "pygments_lexer": "ipython3",
   "version": "3.8.8"
  }
 },
 "nbformat": 4,
 "nbformat_minor": 5
}
