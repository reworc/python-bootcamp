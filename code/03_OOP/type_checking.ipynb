{
 "cells": [
  {
   "cell_type": "code",
   "execution_count": 5,
   "metadata": {},
   "outputs": [
    {
     "name": "stdout",
     "output_type": "stream",
     "text": [
      "w_student is of type WorkingStudent\n",
      "w_student is instance of WorkingStudent\n",
      "w_student is instance of Student\n"
     ]
    }
   ],
   "source": [
    "class Student():        \n",
    "    def __init__(self, firstname, surname):\n",
    "        self.firstname = firstname\n",
    "        self.surname = surname\n",
    "    \n",
    "    def name(self):\n",
    "        return self.firstname + \" \" + self.surname\n",
    "    \n",
    "class WorkingStudent(Student):\n",
    "    def __init__(self, firstname, surname, company):\n",
    "        super().__init__(firstname, surname)\n",
    "        self.company = company\n",
    "        \n",
    "    def name(self):\n",
    "        return super().name() + \" - \" + self.company\n",
    "    \n",
    "w_student = WorkingStudent(\"Max\", \"Müller\", \"Fantastico GmbH\")\n",
    "student = Student(\"Monika\", \"Mustermann\")\n",
    "\n",
    "if type(w_student) == WorkingStudent:\n",
    "    print(\"w_student is of type WorkingStudent\")\n",
    "    \n",
    "if type(w_student) == Student:\n",
    "    print(\"w_student is of type Student\")\n",
    "\n",
    "    \n",
    "if isinstance(w_student, WorkingStudent):\n",
    "    print(\"w_student is instance of WorkingStudent\")\n",
    "    \n",
    "if isinstance(w_student, Student):\n",
    "    print(\"w_student is instance of Student\")"
   ]
  },
  {
   "cell_type": "code",
   "execution_count": null,
   "metadata": {},
   "outputs": [],
   "source": []
  }
 ],
 "metadata": {
  "kernelspec": {
   "display_name": "Python 3",
   "language": "python",
   "name": "python3"
  },
  "language_info": {
   "codemirror_mode": {
    "name": "ipython",
    "version": 3
   },
   "file_extension": ".py",
   "mimetype": "text/x-python",
   "name": "python",
   "nbconvert_exporter": "python",
   "pygments_lexer": "ipython3",
   "version": "3.8.5"
  }
 },
 "nbformat": 4,
 "nbformat_minor": 4
}
