{
 "cells": [
  {
   "cell_type": "code",
   "execution_count": 6,
   "id": "81ed2e5f",
   "metadata": {},
   "outputs": [
    {
     "name": "stdout",
     "output_type": "stream",
     "text": [
      "zero error\n",
      "close file\n"
     ]
    }
   ],
   "source": [
    "try:\n",
    "    file = open(\"existiert.txt\", \"r\")\n",
    "    print(5/0)\n",
    "except FileNotFoundError:\n",
    "    print(\"File Not Found\")\n",
    "except ZeroDivisionError:\n",
    "    print(\"zero error\")\n",
    "finally:    \n",
    "    file.close()\n",
    "    print(\"close file\")"
   ]
  },
  {
   "cell_type": "code",
   "execution_count": 12,
   "id": "298e464b",
   "metadata": {},
   "outputs": [
    {
     "name": "stdout",
     "output_type": "stream",
     "text": [
      "other error: division by zero\n",
      "close file\n"
     ]
    }
   ],
   "source": [
    "try:\n",
    "    file = open(\"existiert.txt\", \"r\")\n",
    "    print(5/0)\n",
    "except FileNotFoundError:\n",
    "    print(\"File Not Found\")\n",
    "except Exception as e:\n",
    "    print(f'other error: {e}')    \n",
    "finally:    \n",
    "    file.close()\n",
    "    print(\"close file\")"
   ]
  },
  {
   "cell_type": "code",
   "execution_count": null,
   "id": "39e457ce",
   "metadata": {},
   "outputs": [],
   "source": []
  }
 ],
 "metadata": {
  "kernelspec": {
   "display_name": "Python 3",
   "language": "python",
   "name": "python3"
  },
  "language_info": {
   "codemirror_mode": {
    "name": "ipython",
    "version": 3
   },
   "file_extension": ".py",
   "mimetype": "text/x-python",
   "name": "python",
   "nbconvert_exporter": "python",
   "pygments_lexer": "ipython3",
   "version": "3.8.8"
  }
 },
 "nbformat": 4,
 "nbformat_minor": 5
}
