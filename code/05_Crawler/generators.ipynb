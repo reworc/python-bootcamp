{
 "cells": [
  {
   "cell_type": "code",
   "execution_count": 7,
   "id": "762804f0",
   "metadata": {},
   "outputs": [
    {
     "name": "stdout",
     "output_type": "stream",
     "text": [
      "list: 0\n",
      "list: 1\n",
      "list: 2\n",
      "list: 3\n",
      "list: 4\n",
      "list: 5\n",
      "list: 6\n",
      "list: 7\n",
      "list: 8\n",
      "list: 9\n",
      "0\n",
      "1\n",
      "2\n",
      "3\n",
      "4\n",
      "5\n",
      "6\n",
      "7\n",
      "8\n",
      "9\n"
     ]
    }
   ],
   "source": [
    "def gen_list():\n",
    "    list = []\n",
    "    for i in range(0,10):\n",
    "        print(\"list: \" + str(i))\n",
    "        list.append(i)\n",
    "    return list\n",
    "\n",
    "for elem in gen_list():\n",
    "    print(elem)"
   ]
  },
  {
   "cell_type": "code",
   "execution_count": 6,
   "id": "f67c2cbf",
   "metadata": {},
   "outputs": [
    {
     "name": "stdout",
     "output_type": "stream",
     "text": [
      "gen: 0\n",
      "0\n",
      "gen: 1\n",
      "1\n",
      "gen: 2\n",
      "2\n",
      "gen: 3\n",
      "3\n",
      "gen: 4\n",
      "4\n",
      "gen: 5\n",
      "5\n",
      "gen: 6\n",
      "6\n",
      "gen: 7\n",
      "7\n",
      "gen: 8\n",
      "8\n",
      "gen: 9\n",
      "9\n"
     ]
    }
   ],
   "source": [
    "def gen_generator():\n",
    "    for i in range(0,10):\n",
    "        print(\"gen: \" + str(i))\n",
    "        yield i\n",
    "        \n",
    "for elem in gen_generator():\n",
    "    print(elem)"
   ]
  },
  {
   "cell_type": "code",
   "execution_count": 8,
   "id": "140c1c28",
   "metadata": {},
   "outputs": [
    {
     "name": "stdout",
     "output_type": "stream",
     "text": [
      "gen: 0\n",
      "0\n",
      "gen: 1\n",
      "1\n",
      "gen: 2\n",
      "2\n",
      "gen: 3\n",
      "3\n",
      "gen: 4\n"
     ]
    }
   ],
   "source": [
    "for elem in gen_generator():\n",
    "    if (elem == 4):\n",
    "        break\n",
    "    print(elem)"
   ]
  },
  {
   "cell_type": "code",
   "execution_count": null,
   "id": "7e2ecd3c",
   "metadata": {},
   "outputs": [],
   "source": []
  }
 ],
 "metadata": {
  "kernelspec": {
   "display_name": "Python 3",
   "language": "python",
   "name": "python3"
  },
  "language_info": {
   "codemirror_mode": {
    "name": "ipython",
    "version": 3
   },
   "file_extension": ".py",
   "mimetype": "text/x-python",
   "name": "python",
   "nbconvert_exporter": "python",
   "pygments_lexer": "ipython3",
   "version": "3.8.8"
  }
 },
 "nbformat": 4,
 "nbformat_minor": 5
}
