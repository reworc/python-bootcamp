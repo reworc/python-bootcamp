{
 "cells": [
  {
   "cell_type": "code",
   "execution_count": 3,
   "id": "975bd014",
   "metadata": {},
   "outputs": [
    {
     "name": "stdout",
     "output_type": "stream",
     "text": [
      "(5, 'Wichtig')\n",
      "(10, 'Hallo Welt')\n",
      "(15, 'Mars')\n"
     ]
    }
   ],
   "source": [
    "import queue\n",
    "\n",
    "q = queue.PriorityQueue()\n",
    "\n",
    "q.put((10, \"Hallo Welt\"))\n",
    "q.put((15, \"Mars\"))\n",
    "q.put((5, \"Wichtig\"))\n",
    "\n",
    "while not q.empty():\n",
    "    print(q.get())"
   ]
  },
  {
   "cell_type": "code",
   "execution_count": 7,
   "id": "d39a965e",
   "metadata": {},
   "outputs": [
    {
     "name": "stdout",
     "output_type": "stream",
     "text": [
      "(-8, 'D')\n",
      "(-7, 'E')\n",
      "(-5, 'A')\n",
      "(-5, 'C')\n",
      "(-3, 'B')\n"
     ]
    }
   ],
   "source": [
    "text = \"A A A A A B B B C C C C C D D D D D D D D E E E E E E E\"\n",
    "d = {}\n",
    "for word in text.split(\" \"):\n",
    "    if word in d:\n",
    "        d[word] = d[word] + 1\n",
    "    else:\n",
    "        d[word] = 1\n",
    "        \n",
    "pq = queue.PriorityQueue()\n",
    "for word, prio in d.items():\n",
    "    pq.put((-prio, word))\n",
    "    \n",
    "while not pq.empty():\n",
    "    print(pq.get())"
   ]
  },
  {
   "cell_type": "code",
   "execution_count": null,
   "id": "6a67089b",
   "metadata": {},
   "outputs": [],
   "source": []
  }
 ],
 "metadata": {
  "kernelspec": {
   "display_name": "Python 3",
   "language": "python",
   "name": "python3"
  },
  "language_info": {
   "codemirror_mode": {
    "name": "ipython",
    "version": 3
   },
   "file_extension": ".py",
   "mimetype": "text/x-python",
   "name": "python",
   "nbconvert_exporter": "python",
   "pygments_lexer": "ipython3",
   "version": "3.8.8"
  }
 },
 "nbformat": 4,
 "nbformat_minor": 5
}
