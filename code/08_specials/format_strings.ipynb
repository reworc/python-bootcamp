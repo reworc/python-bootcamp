{
 "cells": [
  {
   "cell_type": "code",
   "execution_count": 1,
   "id": "501f1633",
   "metadata": {},
   "outputs": [
    {
     "name": "stdout",
     "output_type": "stream",
     "text": [
      "Ich habe 5 Hunde\n"
     ]
    }
   ],
   "source": [
    "n = 5\n",
    "print(f'Ich habe {str(n)} Hunde')"
   ]
  },
  {
   "cell_type": "code",
   "execution_count": 2,
   "id": "1b12bfd5",
   "metadata": {},
   "outputs": [
    {
     "name": "stdout",
     "output_type": "stream",
     "text": [
      "I got 5 dogs\n"
     ]
    }
   ],
   "source": [
    "print(f'I got {str(n)} dogs')"
   ]
  },
  {
   "cell_type": "code",
   "execution_count": 7,
   "id": "b3c17e03",
   "metadata": {},
   "outputs": [
    {
     "name": "stdout",
     "output_type": "stream",
     "text": [
      "Ich habe 5 Hunde\n",
      "I got 5 dogs\n"
     ]
    }
   ],
   "source": [
    "trans = {\n",
    "    \"de\": \"Ich habe {0} Hunde\",\n",
    "    \"eng\": \"I got {0} dogs\"\n",
    "}\n",
    "\n",
    "for key, value in trans.items():\n",
    "    print(value.format(n))"
   ]
  },
  {
   "cell_type": "code",
   "execution_count": 14,
   "id": "b72384e6",
   "metadata": {},
   "outputs": [
    {
     "name": "stdout",
     "output_type": "stream",
     "text": [
      "Pi hat den Wert: 3.142\n",
      "Pi hat den Wert: 3.142\n",
      "Pi hat den Wert: 3.142!!!\n",
      "Pi hat den Wert: 3.142\n",
      "Pi hat den Wert: 3.142\n"
     ]
    }
   ],
   "source": [
    "import math\n",
    "\n",
    "print(\"Pi hat den Wert: {0:.3f}\".format(math.pi))\n",
    "print(\"{0} hat den Wert: {pi:.3f}\".format(\"Pi\", pi=math.pi))\n",
    "print(\"{0} hat den Wert: {pi:.3f}{1}\".format(\"Pi\", \"!!!\", pi=math.pi))\n",
    "print(\"Pi hat den Wert: {pi:.3f}\".format(pi=math.pi))\n",
    "print(f\"Pi hat den Wert: {math.pi:.3f}\")"
   ]
  },
  {
   "cell_type": "code",
   "execution_count": null,
   "id": "91b501bb",
   "metadata": {},
   "outputs": [],
   "source": []
  }
 ],
 "metadata": {
  "kernelspec": {
   "display_name": "Python 3",
   "language": "python",
   "name": "python3"
  },
  "language_info": {
   "codemirror_mode": {
    "name": "ipython",
    "version": 3
   },
   "file_extension": ".py",
   "mimetype": "text/x-python",
   "name": "python",
   "nbconvert_exporter": "python",
   "pygments_lexer": "ipython3",
   "version": "3.8.8"
  }
 },
 "nbformat": 4,
 "nbformat_minor": 5
}
