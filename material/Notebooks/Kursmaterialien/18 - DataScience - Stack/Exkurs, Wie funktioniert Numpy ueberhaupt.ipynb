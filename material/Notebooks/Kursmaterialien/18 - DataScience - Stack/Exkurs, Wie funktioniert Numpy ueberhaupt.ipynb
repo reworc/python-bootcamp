{
 "cells": [
  {
   "cell_type": "markdown",
   "metadata": {},
   "source": [
    "## Exkurs: Wie funktioniert Numpy überhaupt?\n",
    "\n",
    "In dieser Lektion werden wir die Klasse `Array` nachbauen, um zu verstehen was bei Numpy im Hintergrund passiert."
   ]
  },
  {
   "cell_type": "code",
   "execution_count": 1,
   "metadata": {},
   "outputs": [
    {
     "name": "stdout",
     "output_type": "stream",
     "text": [
      "[1 4 9]\n",
      "1\n"
     ]
    }
   ],
   "source": [
    "import numpy as np\n",
    "\n",
    "a = np.array([1, 2, 3])\n",
    "print(a ** 2)\n",
    "\n",
    "print(a[0])"
   ]
  },
  {
   "cell_type": "markdown",
   "metadata": {
    "collapsed": true
   },
   "source": [
    "Dieses Verhalten eines Array-Objektes wollen wir mit einer eigenen Klasse rekonstruieren."
   ]
  },
  {
   "cell_type": "markdown",
   "metadata": {},
   "source": [
    "### Wir bauen die `Array`-Klasse nach\n",
    "\n",
    "Dazu erstellen wir neue Klasse `MyArray` mit einer überschriebenen Methode für die Multiplikation, die dafür sorgt, dass nicht die ganze Liste, sondern jedes Element aus der Liste einzeln multipliziert wird."
   ]
  },
  {
   "cell_type": "code",
   "execution_count": 2,
   "metadata": {},
   "outputs": [
    {
     "name": "stdout",
     "output_type": "stream",
     "text": [
      "[1, 2, 3]\n",
      "[2, 4, 6]\n"
     ]
    }
   ],
   "source": [
    "class MyArray():\n",
    "    \n",
    "    # im Constructor übergeben wir lediglich die Liste\n",
    "    def __init__(self, liste):\n",
    "        self.liste = liste\n",
    "        \n",
    "    # die Multiplikationsfunktion überschreiben wir hier derart, dass sie für jedes Element aus der Liste aufgerufen wird    \n",
    "    def __mul__(self, other):\n",
    "        nliste = []\n",
    "        for element in self.liste:\n",
    "            nliste.append(element * other)\n",
    "        # oder alternativ: nliste = [element * other for element in self.liste]\n",
    "        return MyArray(nliste)\n",
    "        \n",
    "a = MyArray([1, 2, 3])\n",
    "b = a * 2\n",
    "\n",
    "print(a.liste)\n",
    "print(b.liste)"
   ]
  }
 ],
 "metadata": {
  "kernelspec": {
   "display_name": "Python 3",
   "language": "python",
   "name": "python3"
  },
  "language_info": {
   "codemirror_mode": {
    "name": "ipython",
    "version": 3
   },
   "file_extension": ".py",
   "mimetype": "text/x-python",
   "name": "python",
   "nbconvert_exporter": "python",
   "pygments_lexer": "ipython3",
   "version": "3.6.1"
  }
 },
 "nbformat": 4,
 "nbformat_minor": 2
}
