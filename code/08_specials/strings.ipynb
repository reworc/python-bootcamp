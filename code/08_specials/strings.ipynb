{
 "cells": [
  {
   "cell_type": "code",
   "execution_count": 1,
   "id": "91b20574",
   "metadata": {},
   "outputs": [
    {
     "name": "stdout",
     "output_type": "stream",
     "text": [
      "HALLO\n",
      "hallo\n"
     ]
    }
   ],
   "source": [
    "w = \"Hallo\"\n",
    "print(w.upper())\n",
    "print(w.lower())"
   ]
  },
  {
   "cell_type": "code",
   "execution_count": 4,
   "id": "1ef9e2dd",
   "metadata": {},
   "outputs": [
    {
     "name": "stdout",
     "output_type": "stream",
     "text": [
      "True\n"
     ]
    }
   ],
   "source": [
    "sentence = \"Ist das Wetter heute gut ???\"\n",
    "print(sentence.endswith(\"?\"))"
   ]
  },
  {
   "cell_type": "code",
   "execution_count": 8,
   "id": "f836141d",
   "metadata": {},
   "outputs": [
    {
     "name": "stdout",
     "output_type": "stream",
     "text": [
      "False\n"
     ]
    }
   ],
   "source": [
    "print(\"dat\" in sentence)"
   ]
  },
  {
   "cell_type": "code",
   "execution_count": 9,
   "id": "67d33bd6",
   "metadata": {},
   "outputs": [
    {
     "name": "stdout",
     "output_type": "stream",
     "text": [
      "Halllo\n"
     ]
    }
   ],
   "source": [
    "print(\"     ?Hallo. \".strip(\" .?\"))"
   ]
  },
  {
   "cell_type": "code",
   "execution_count": 11,
   "id": "6820a4ff",
   "metadata": {},
   "outputs": [
    {
     "name": "stdout",
     "output_type": "stream",
     "text": [
      "Hallo._\n",
      "____?Hallo\n"
     ]
    }
   ],
   "source": [
    "print(\"____?Hallo._\".lstrip(\"_ .?\"))\n",
    "print(\"____?Hallo.__\".rstrip(\"_ .?\"))"
   ]
  },
  {
   "cell_type": "code",
   "execution_count": 12,
   "id": "be0c4f83",
   "metadata": {},
   "outputs": [
    {
     "name": "stdout",
     "output_type": "stream",
     "text": [
      "Hallo\n",
      "Hallo._\n",
      "____?Hallo\n"
     ]
    }
   ],
   "source": [
    "string =\"____?Hallo._\"\n",
    "\n",
    "print(string.strip(\"_ .?\"))\n",
    "print(string.lstrip(\"_ .?\"))\n",
    "print(string.rstrip(\"_ .?\"))"
   ]
  },
  {
   "cell_type": "code",
   "execution_count": 15,
   "id": "a897f6d2",
   "metadata": {},
   "outputs": [
    {
     "name": "stdout",
     "output_type": "stream",
     "text": [
      "25\n",
      "Ist das Wetter heute gut !!!\n"
     ]
    }
   ],
   "source": [
    "sentence = \"Ist das Wetter heute gut ???\"\n",
    "\n",
    "print(sentence.find(\"?\"))\n",
    "\n",
    "print(sentence.replace(\"?\", \"!\"))"
   ]
  },
  {
   "cell_type": "code",
   "execution_count": null,
   "id": "a8ee0940",
   "metadata": {},
   "outputs": [],
   "source": []
  }
 ],
 "metadata": {
  "kernelspec": {
   "display_name": "Python 3",
   "language": "python",
   "name": "python3"
  },
  "language_info": {
   "codemirror_mode": {
    "name": "ipython",
    "version": 3
   },
   "file_extension": ".py",
   "mimetype": "text/x-python",
   "name": "python",
   "nbconvert_exporter": "python",
   "pygments_lexer": "ipython3",
   "version": "3.8.8"
  }
 },
 "nbformat": 4,
 "nbformat_minor": 5
}
