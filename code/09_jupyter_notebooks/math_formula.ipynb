{
 "cells": [
  {
   "cell_type": "markdown",
   "id": "77a5948c",
   "metadata": {},
   "source": [
    "# math formatting\n",
    "\n",
    "$ a^2 + b^2 = c^2 $ \n",
    "\n",
    "Example math formula: $ c = \\sqrt{a^2 + b^2} $\n",
    "\n",
    "$ \\frac{n!}{k!(n-k)!} = \\binom{n}{k} $\n",
    "\n",
    "and now a centered math fomula $$ \\sqrt[a]{b} $$"
   ]
  },
  {
   "cell_type": "code",
   "execution_count": null,
   "id": "66287a2b",
   "metadata": {},
   "outputs": [],
   "source": []
  }
 ],
 "metadata": {
  "kernelspec": {
   "display_name": "Python 3 (ipykernel)",
   "language": "python",
   "name": "python3"
  },
  "language_info": {
   "codemirror_mode": {
    "name": "ipython",
    "version": 3
   },
   "file_extension": ".py",
   "mimetype": "text/x-python",
   "name": "python",
   "nbconvert_exporter": "python",
   "pygments_lexer": "ipython3",
   "version": "3.8.12"
  }
 },
 "nbformat": 4,
 "nbformat_minor": 5
}
