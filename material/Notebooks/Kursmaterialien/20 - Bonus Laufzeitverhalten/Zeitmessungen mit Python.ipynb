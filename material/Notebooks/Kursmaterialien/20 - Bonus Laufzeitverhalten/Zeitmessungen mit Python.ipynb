{
 "cells": [
  {
   "cell_type": "markdown",
   "metadata": {},
   "source": [
    "## Zeitmessung mit Python: Wie lange braucht mein Code?"
   ]
  },
  {
   "cell_type": "code",
   "execution_count": 1,
   "metadata": {
    "collapsed": true
   },
   "outputs": [],
   "source": [
    "from datetime import datetime"
   ]
  },
  {
   "cell_type": "code",
   "execution_count": 56,
   "metadata": {},
   "outputs": [
    {
     "name": "stdout",
     "output_type": "stream",
     "text": [
      "10000000\n",
      "0:00:00.543059\n"
     ]
    }
   ],
   "source": [
    "def inner():\n",
    "    s = 0\n",
    "    for i in range(0, 10000000):\n",
    "        s = s + 1\n",
    "    print(s)\n",
    "\n",
    "start = datetime.now()\n",
    "\n",
    "inner()\n",
    "\n",
    "end = datetime.now()\n",
    "\n",
    "print(end - start)"
   ]
  },
  {
   "cell_type": "markdown",
   "metadata": {},
   "source": [
    "## Zeitmessung mit Jupyter (`%%timeit`)"
   ]
  },
  {
   "cell_type": "code",
   "execution_count": 61,
   "metadata": {},
   "outputs": [
    {
     "name": "stdout",
     "output_type": "stream",
     "text": [
      "10000000\n",
      "10000000\n",
      "10000000\n",
      "10000000\n",
      "10000000\n",
      "10000000\n",
      "10000000\n",
      "10000000\n",
      "10000000\n",
      "10000000\n",
      "10000000\n",
      "10000000\n",
      "10000000\n",
      "10000000\n",
      "10000000\n",
      "10000000\n",
      "10000000\n",
      "10000000\n",
      "10000000\n",
      "10000000\n",
      "10000000\n",
      "10000000\n",
      "10000000\n",
      "10000000\n",
      "10000000\n",
      "10000000\n",
      "10000000\n",
      "10000000\n",
      "10000000\n",
      "10000000\n",
      "541 ms ± 10.4 ms per loop (mean ± std. dev. of 10 runs, 3 loops each)\n"
     ]
    }
   ],
   "source": [
    "%%timeit -n3 -r10\n",
    "\n",
    "s = 0\n",
    "for i in range(0, 10000000):\n",
    "    s = s + 1\n",
    "print(s)"
   ]
  },
  {
   "cell_type": "code",
   "execution_count": null,
   "metadata": {
    "collapsed": true
   },
   "outputs": [],
   "source": []
  }
 ],
 "metadata": {
  "kernelspec": {
   "display_name": "Python 3",
   "language": "python",
   "name": "python3"
  },
  "language_info": {
   "codemirror_mode": {
    "name": "ipython",
    "version": 3
   },
   "file_extension": ".py",
   "mimetype": "text/x-python",
   "name": "python",
   "nbconvert_exporter": "python",
   "pygments_lexer": "ipython3",
   "version": "3.6.2"
  }
 },
 "nbformat": 4,
 "nbformat_minor": 2
}
