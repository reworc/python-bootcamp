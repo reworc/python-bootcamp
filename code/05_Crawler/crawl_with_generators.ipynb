{
 "cells": [
  {
   "cell_type": "code",
   "execution_count": 31,
   "id": "b8dd59e6",
   "metadata": {},
   "outputs": [
    {
     "name": "stdout",
     "output_type": "stream",
     "text": [
      "http://python.beispiel.programmierenlernen.io/\n",
      "😩: Polarised modular conglomeration\n",
      "😐: Cross-group contextually-based middleware\n",
      "😌: De-engineered encompassing structure\n",
      "😚: Fully-configurable multi-tasking interface\n",
      "😠: Versatile eco-centric core\n",
      "😮: Optional maximized utilisation\n",
      "😢: Open-architected secondary product\n",
      "http://python.beispiel.programmierenlernen.io/index.php?page=2\n"
     ]
    }
   ],
   "source": [
    "import requests\n",
    "import time\n",
    "import csv\n",
    "\n",
    "from bs4 import BeautifulSoup\n",
    "from urllib.parse import urljoin\n",
    "\n",
    "class CrawledArticle():\n",
    "    def __init__(self, title, emoji, content, image):\n",
    "        self.title = title\n",
    "        self.emoji = emoji\n",
    "        self.content = content\n",
    "        self.image = image\n",
    "\n",
    "class ArticleFetcher():\n",
    "    def __init__(self, mainPageUrl):\n",
    "        self.__mainPageUrl = mainPageUrl\n",
    "        self.__pages = { }\n",
    "        self.__articles = []        \n",
    "        \n",
    "    def __extract_doc(self, pgurl):\n",
    "        r = requests.get(pgurl)\n",
    "        doc = BeautifulSoup(r.text, \"html.parser\")\n",
    "        \n",
    "        self.__pages[pgurl] = doc\n",
    "        return doc\n",
    "        \n",
    "    def __get_next_page_url(self, pgurl, doc): \n",
    "        nav = doc.select(\".navigation a\")\n",
    "        if len(nav) == 1:\n",
    "            return urljoin(pgurl, nav[0].attrs[\"href\"])\n",
    "        else:\n",
    "            return None\n",
    "    \n",
    "    def __fetch(self, doc, pgurl):  \n",
    "        \n",
    "        for card in doc.select(\".card\"):\n",
    "            emoji = card.select_one(\".emoji\").text\n",
    "            content = card.select_one(\".card-text\").text\n",
    "            title = card.select(\".card-title span\")[1].text\n",
    "            img = urljoin(pgurl, card.select_one(\"img\").attrs[\"src\"])\n",
    "\n",
    "            yield CrawledArticle(title, emoji, content, img)\n",
    "    \n",
    "    def fetch__all__pages(self) :\n",
    "        url = self.__mainPageUrl\n",
    "        while (url != None) : \n",
    "            doc = self.__extract_doc(url)            \n",
    "            print(url)\n",
    "            time.sleep(1)\n",
    "            yield self.__fetch(doc, url)\n",
    "            url = self.__get_next_page_url(url, doc)\n",
    "    \n",
    "    def write_to_file(self, fileName, numArticles) :\n",
    "        \n",
    "        with open(fileName, 'w', newline='', encoding='utf-8') as file:\n",
    "            writer = csv.writer(file, delimiter=';', quotechar='\"', quoting=csv.QUOTE_MINIMAL)\n",
    "            writer.writerow([\"emoji\", \"title\", \"content\", \"image\"])\n",
    "            \n",
    "            pages = fetcher.fetch__all__pages()\n",
    "            \n",
    "            count = 0\n",
    "            \n",
    "            art_array = ( [ a.emoji, a.title, a.content, a.image] for pg in pages for a in pg )\n",
    "            for art in art_array:\n",
    "                count += 1\n",
    "                if count > numArticles:\n",
    "                    break\n",
    "                    \n",
    "                writer.writerow(art)\n",
    "                \n",
    "\n",
    "# print(r.status_code)\n",
    "# print(r.headers)\n",
    "# print(r.text)\n",
    "\n",
    "fetcher = ArticleFetcher(\"http://python.beispiel.programmierenlernen.io/\")\n",
    "pages = fetcher.fetch__all__pages() # --> fetch_all _pages return list of list of articles ()\n",
    "\n",
    "counter = 0\n",
    "\n",
    "# flatten list via list comprehension (no generator-support):\n",
    "# articles = [art for pg in pages for art in pg]\n",
    "\n",
    "# flatten with generator-support):\n",
    "articles = (art for pg in pages for art in pg)\n",
    "\n",
    "for art in articles:\n",
    "\n",
    "    counter += 1\n",
    "    if (counter == 8):\n",
    "        break\n",
    "    print(art.emoji + \": \" + art.title)"
   ]
  },
  {
   "cell_type": "code",
   "execution_count": 34,
   "id": "f2b2523f",
   "metadata": {},
   "outputs": [
    {
     "name": "stdout",
     "output_type": "stream",
     "text": [
      "http://python.beispiel.programmierenlernen.io/\n"
     ]
    }
   ],
   "source": [
    "fetcher.write_to_file('crawler_output_generator.csv', 5)"
   ]
  },
  {
   "cell_type": "code",
   "execution_count": 35,
   "id": "211c952f",
   "metadata": {},
   "outputs": [
    {
     "name": "stdout",
     "output_type": "stream",
     "text": [
      "emoji, title, content, image\n",
      "😩, Polarised modular conglomeration, Optio numquam ut accusantium laborum unde assumenda. Ea et totam asperiores fugiat voluptatem vitae. Et provident nam et mollitia., http://python.beispiel.programmierenlernen.io/img/1.jpg\n",
      "😐, Cross-group contextually-based middleware, Deleniti atque autem et commodi cupiditate cupiditate. Fuga illum quas aliquam velit. Labore dolor fugit quia id odio nam., http://python.beispiel.programmierenlernen.io/img/2.jpg\n",
      "😌, De-engineered encompassing structure, Assumenda tempora inventore harum cumque voluptatibus sit et. Et omnis et dolore quod voluptas sit a., http://python.beispiel.programmierenlernen.io/img/3.jpg\n",
      "😚, Fully-configurable multi-tasking interface, Cumque unde officia autem quia at fugit. Sint iure veritatis culpa aut provident aliquam in. Eos eum accusantium quia vel dignissimos nesciunt expedita. Rem aut accusantium et tempore., http://python.beispiel.programmierenlernen.io/img/4.jpg\n",
      "😠, Versatile eco-centric core, Delectus distinctio quis omnis ut commodi sed. Beatae officia doloribus consequatur dolore. Consectetur impedit quia voluptas et ut. Incidunt rem mollitia fugiat quia corporis quo. Quod possimus ut et neque deserunt., http://python.beispiel.programmierenlernen.io/img/5.jpg\n"
     ]
    }
   ],
   "source": [
    " with open('crawler_output_generator.csv', 'r', newline='', encoding='utf-8') as file:\n",
    "    spamreader = csv.reader(file, delimiter=';', quotechar='\"')\n",
    "    for row in spamreader:\n",
    "        print(', '.join(row))"
   ]
  },
  {
   "cell_type": "code",
   "execution_count": null,
   "id": "f7716a5f",
   "metadata": {},
   "outputs": [],
   "source": []
  }
 ],
 "metadata": {
  "kernelspec": {
   "display_name": "Python 3",
   "language": "python",
   "name": "python3"
  },
  "language_info": {
   "codemirror_mode": {
    "name": "ipython",
    "version": 3
   },
   "file_extension": ".py",
   "mimetype": "text/x-python",
   "name": "python",
   "nbconvert_exporter": "python",
   "pygments_lexer": "ipython3",
   "version": "3.8.8"
  }
 },
 "nbformat": 4,
 "nbformat_minor": 5
}
