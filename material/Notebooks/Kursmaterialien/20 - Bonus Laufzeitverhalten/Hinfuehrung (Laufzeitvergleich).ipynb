{
 "cells": [
  {
   "cell_type": "markdown",
   "metadata": {},
   "source": [
    "# Hinführung: O-Notation\n",
    "\n",
    "Schauen wir uns mal ein paar Beispiele an, wie sich die Anzahl der Aufrufe des print()-Befehles in Abhängigkeit zu `n` verhalten könnte:"
   ]
  },
  {
   "cell_type": "markdown",
   "metadata": {},
   "source": [
    "### Konstante Laufzeit"
   ]
  },
  {
   "cell_type": "code",
   "execution_count": 3,
   "metadata": {},
   "outputs": [
    {
     "name": "stdout",
     "output_type": "stream",
     "text": [
      "--- nächstes n: 1---\n",
      "1. Durchlauf von 5\n",
      "2. Durchlauf von 5\n",
      "3. Durchlauf von 5\n",
      "4. Durchlauf von 5\n",
      "5. Durchlauf von 5\n",
      "--- nächstes n: 2---\n",
      "1. Durchlauf von 5\n",
      "2. Durchlauf von 5\n",
      "3. Durchlauf von 5\n",
      "4. Durchlauf von 5\n",
      "5. Durchlauf von 5\n",
      "--- nächstes n: 3---\n",
      "1. Durchlauf von 5\n",
      "2. Durchlauf von 5\n",
      "3. Durchlauf von 5\n",
      "4. Durchlauf von 5\n",
      "5. Durchlauf von 5\n",
      "--- nächstes n: 4---\n",
      "1. Durchlauf von 5\n",
      "2. Durchlauf von 5\n",
      "3. Durchlauf von 5\n",
      "4. Durchlauf von 5\n",
      "5. Durchlauf von 5\n",
      "--- nächstes n: 5---\n",
      "1. Durchlauf von 5\n",
      "2. Durchlauf von 5\n",
      "3. Durchlauf von 5\n",
      "4. Durchlauf von 5\n",
      "5. Durchlauf von 5\n"
     ]
    }
   ],
   "source": [
    "def f(n):\n",
    "    print(\"--- nächstes n: \" + str(n) + \"---\")\n",
    "    for i in range(1, 6): \n",
    "        print(str(i) + \". Durchlauf von 5\")\n",
    "\n",
    "for n in range(1, 6):\n",
    "    f(n)"
   ]
  },
  {
   "cell_type": "markdown",
   "metadata": {},
   "source": [
    "### Lineare Laufzeit"
   ]
  },
  {
   "cell_type": "code",
   "execution_count": 4,
   "metadata": {},
   "outputs": [
    {
     "name": "stdout",
     "output_type": "stream",
     "text": [
      "--- nächstes n: 1---\n",
      "1. Durchlauf von 1\n",
      "--- nächstes n: 2---\n",
      "1. Durchlauf von 2\n",
      "2. Durchlauf von 2\n",
      "--- nächstes n: 3---\n",
      "1. Durchlauf von 3\n",
      "2. Durchlauf von 3\n",
      "3. Durchlauf von 3\n",
      "--- nächstes n: 4---\n",
      "1. Durchlauf von 4\n",
      "2. Durchlauf von 4\n",
      "3. Durchlauf von 4\n",
      "4. Durchlauf von 4\n",
      "--- nächstes n: 5---\n",
      "1. Durchlauf von 5\n",
      "2. Durchlauf von 5\n",
      "3. Durchlauf von 5\n",
      "4. Durchlauf von 5\n",
      "5. Durchlauf von 5\n"
     ]
    }
   ],
   "source": [
    "# wir schauen uns an, wie sich die Ausgabe der Funktion f in Abhängigkei vom Parameter n verändert\n",
    "\n",
    "def f(n):\n",
    "    print(\"--- nächstes n: \" + str(n) + \"---\")\n",
    "\n",
    "    for i in range(1, n + 1): \n",
    "        print(str(i) + \". Durchlauf von \" + str(n))\n",
    "\n",
    "for n in range(1,6):\n",
    "    f(n)"
   ]
  },
  {
   "cell_type": "markdown",
   "metadata": {},
   "source": [
    "### Quadratische Laufzeit"
   ]
  },
  {
   "cell_type": "code",
   "execution_count": 6,
   "metadata": {},
   "outputs": [
    {
     "name": "stdout",
     "output_type": "stream",
     "text": [
      "--- nächstes n: 1---\n",
      "(i = 1, j = 1) - Durchlauf, n = 1\n",
      "--- nächstes n: 2---\n",
      "(i = 1, j = 1) - Durchlauf, n = 2\n",
      "(i = 2, j = 1) - Durchlauf, n = 2\n",
      "(i = 1, j = 2) - Durchlauf, n = 2\n",
      "(i = 2, j = 2) - Durchlauf, n = 2\n",
      "--- nächstes n: 3---\n",
      "(i = 1, j = 1) - Durchlauf, n = 3\n",
      "(i = 2, j = 1) - Durchlauf, n = 3\n",
      "(i = 3, j = 1) - Durchlauf, n = 3\n",
      "(i = 1, j = 2) - Durchlauf, n = 3\n",
      "(i = 2, j = 2) - Durchlauf, n = 3\n",
      "(i = 3, j = 2) - Durchlauf, n = 3\n",
      "(i = 1, j = 3) - Durchlauf, n = 3\n",
      "(i = 2, j = 3) - Durchlauf, n = 3\n",
      "(i = 3, j = 3) - Durchlauf, n = 3\n",
      "--- nächstes n: 4---\n",
      "(i = 1, j = 1) - Durchlauf, n = 4\n",
      "(i = 2, j = 1) - Durchlauf, n = 4\n",
      "(i = 3, j = 1) - Durchlauf, n = 4\n",
      "(i = 4, j = 1) - Durchlauf, n = 4\n",
      "(i = 1, j = 2) - Durchlauf, n = 4\n",
      "(i = 2, j = 2) - Durchlauf, n = 4\n",
      "(i = 3, j = 2) - Durchlauf, n = 4\n",
      "(i = 4, j = 2) - Durchlauf, n = 4\n",
      "(i = 1, j = 3) - Durchlauf, n = 4\n",
      "(i = 2, j = 3) - Durchlauf, n = 4\n",
      "(i = 3, j = 3) - Durchlauf, n = 4\n",
      "(i = 4, j = 3) - Durchlauf, n = 4\n",
      "(i = 1, j = 4) - Durchlauf, n = 4\n",
      "(i = 2, j = 4) - Durchlauf, n = 4\n",
      "(i = 3, j = 4) - Durchlauf, n = 4\n",
      "(i = 4, j = 4) - Durchlauf, n = 4\n",
      "--- nächstes n: 5---\n",
      "(i = 1, j = 1) - Durchlauf, n = 5\n",
      "(i = 2, j = 1) - Durchlauf, n = 5\n",
      "(i = 3, j = 1) - Durchlauf, n = 5\n",
      "(i = 4, j = 1) - Durchlauf, n = 5\n",
      "(i = 5, j = 1) - Durchlauf, n = 5\n",
      "(i = 1, j = 2) - Durchlauf, n = 5\n",
      "(i = 2, j = 2) - Durchlauf, n = 5\n",
      "(i = 3, j = 2) - Durchlauf, n = 5\n",
      "(i = 4, j = 2) - Durchlauf, n = 5\n",
      "(i = 5, j = 2) - Durchlauf, n = 5\n",
      "(i = 1, j = 3) - Durchlauf, n = 5\n",
      "(i = 2, j = 3) - Durchlauf, n = 5\n",
      "(i = 3, j = 3) - Durchlauf, n = 5\n",
      "(i = 4, j = 3) - Durchlauf, n = 5\n",
      "(i = 5, j = 3) - Durchlauf, n = 5\n",
      "(i = 1, j = 4) - Durchlauf, n = 5\n",
      "(i = 2, j = 4) - Durchlauf, n = 5\n",
      "(i = 3, j = 4) - Durchlauf, n = 5\n",
      "(i = 4, j = 4) - Durchlauf, n = 5\n",
      "(i = 5, j = 4) - Durchlauf, n = 5\n",
      "(i = 1, j = 5) - Durchlauf, n = 5\n",
      "(i = 2, j = 5) - Durchlauf, n = 5\n",
      "(i = 3, j = 5) - Durchlauf, n = 5\n",
      "(i = 4, j = 5) - Durchlauf, n = 5\n",
      "(i = 5, j = 5) - Durchlauf, n = 5\n"
     ]
    }
   ],
   "source": [
    "def f(n):\n",
    "    print(\"--- nächstes n: \" + str(n) + \"---\")\n",
    "    for j in range(1, n + 1):\n",
    "        for i in range(1, n + 1):\n",
    "            print(\"(i = \" + str(i) + \", j = \" + str(j) + \") - Durchlauf, n = \" + str(n))\n",
    "\n",
    "for n in range(1, 6):\n",
    "    f(n)"
   ]
  },
  {
   "cell_type": "markdown",
   "metadata": {},
   "source": [
    "### Vergleich plotten"
   ]
  },
  {
   "cell_type": "code",
   "execution_count": 7,
   "metadata": {
    "collapsed": true
   },
   "outputs": [],
   "source": [
    "import matplotlib.pyplot as plt\n",
    "import numpy as np\n",
    "\n",
    "%matplotlib inline"
   ]
  },
  {
   "cell_type": "code",
   "execution_count": 10,
   "metadata": {},
   "outputs": [
    {
     "data": {
      "image/png": "[encoded data removed]",
      "text/plain": [
       "<matplotlib.figure.Figure at 0x116f9d198>"
      ]
     },
     "metadata": {},
     "output_type": "display_data"
    }
   ],
   "source": [
    "plt.plot(np.arange(1, 6), np.repeat(5, 5), label=\"Konstante Laufzeit\")\n",
    "plt.plot(np.arange(1, 6), np.arange(1, 6), label=\"Lineare Laufzeit\")\n",
    "plt.plot(np.arange(1, 6), np.arange(1, 6) ** 2, label=\"Quadratrische Laufzeit\")\n",
    "plt.legend()\n",
    "\n",
    "plt.xlabel(\"n\")\n",
    "plt.ylabel(\"Anzahl print() - Befehle\")\n",
    "plt.show()"
   ]
  },
  {
   "cell_type": "code",
   "execution_count": null,
   "metadata": {
    "collapsed": true
   },
   "outputs": [],
   "source": []
  }
 ],
 "metadata": {
  "kernelspec": {
   "display_name": "Python 3",
   "language": "python",
   "name": "python3"
  },
  "language_info": {
   "codemirror_mode": {
    "name": "ipython",
    "version": 3
   },
   "file_extension": ".py",
   "mimetype": "text/x-python",
   "name": "python",
   "nbconvert_exporter": "python",
   "pygments_lexer": "ipython3",
   "version": "3.6.3"
  }
 },
 "nbformat": 4,
 "nbformat_minor": 2
}
