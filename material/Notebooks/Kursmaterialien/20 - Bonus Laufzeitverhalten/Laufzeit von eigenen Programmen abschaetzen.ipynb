{
 "cells": [
  {
   "cell_type": "markdown",
   "metadata": {},
   "source": [
    "## Laufzeit von eigenen Programmen abschätzen\n",
    "\n",
    "Warum ist das wichtiger als z. B. ein paar Variable mehr oder weniger zu verwenden? Warum macht das mehr aus, als die Wahl der Programmiersprache?\n",
    "\n",
    "- Die Wahl einer schnelleren Programmiersprache kann definitiv dein Programm beschleunigen.\n",
    "- Allerdings: Viel wichtiger ist die Wahl der richtigen Datenstruktur. Das macht wirklich sehr viel mehr aus!\n",
    "\n",
    "https://wiki.python.org/moin/TimeComplexity\n",
    "\n",
    "### Beispiel 1: Alle Studierenden ausgeben"
   ]
  },
  {
   "cell_type": "code",
   "execution_count": 2,
   "metadata": {},
   "outputs": [
    {
     "name": "stdout",
     "output_type": "stream",
     "text": [
      "Max\n",
      "Erik\n",
      "Monika\n",
      "Tobias\n"
     ]
    }
   ],
   "source": [
    "def f(students): # O(n)\n",
    "    for student in students:\n",
    "        print(student)\n",
    "    \n",
    "s = [\"Max\", \"Erik\", \"Monika\", \"Tobias\"]\n",
    "f(s)"
   ]
  },
  {
   "cell_type": "markdown",
   "metadata": {},
   "source": [
    "### Beispiel 2: Alle Studierenden sortieren und anschließend ausgeben"
   ]
  },
  {
   "cell_type": "code",
   "execution_count": 5,
   "metadata": {},
   "outputs": [
    {
     "name": "stdout",
     "output_type": "stream",
     "text": [
      "Erik\n",
      "Max\n",
      "Monika\n",
      "Tobias\n"
     ]
    }
   ],
   "source": [
    "def f(students): # O(n*log(n))\n",
    "    students.sort() # O(n*log(n))\n",
    "    for student in students: # O(n)\n",
    "        print(student)\n",
    "    \n",
    "s = [\"Max\", \"Erik\", \"Monika\", \"Tobias\"]\n",
    "f(s)"
   ]
  },
  {
   "cell_type": "markdown",
   "metadata": {},
   "source": [
    "### Beispiel 3: Überprüfen, ob ein Studierender bei uns eingeschrieben ist (Liste):"
   ]
  },
  {
   "cell_type": "code",
   "execution_count": 12,
   "metadata": {},
   "outputs": [
    {
     "name": "stdout",
     "output_type": "stream",
     "text": [
      "True\n"
     ]
    }
   ],
   "source": [
    "def f(students): # O(n)\n",
    "    print(\"Erik\" in students) # O(n)\n",
    "    \n",
    "s = [\"Max\", \"Erik\", \"Monika\", \"Tobias\"]\n",
    "f(s)"
   ]
  },
  {
   "cell_type": "markdown",
   "metadata": {},
   "source": [
    "### Beispiel 4: Überprüfen, ob ein Studierender bei uns eingeschrieben ist (Set):"
   ]
  },
  {
   "cell_type": "code",
   "execution_count": 11,
   "metadata": {},
   "outputs": [
    {
     "name": "stdout",
     "output_type": "stream",
     "text": [
      "True\n"
     ]
    }
   ],
   "source": [
    "def f(students): # O(1)\n",
    "    print(\"Erik\" in students) # O(1)\n",
    "    \n",
    "s = {\"Max\", \"Erik\", \"Monika\", \"Tobias\"}\n",
    "f(s)"
   ]
  },
  {
   "cell_type": "code",
   "execution_count": 13,
   "metadata": {
    "collapsed": true
   },
   "outputs": [],
   "source": [
    "# Dr. Oliver Vornberger, Algorithmen und Datenstrukuren"
   ]
  },
  {
   "cell_type": "code",
   "execution_count": null,
   "metadata": {
    "collapsed": true
   },
   "outputs": [],
   "source": []
  }
 ],
 "metadata": {
  "kernelspec": {
   "display_name": "Python 3",
   "language": "python",
   "name": "python3"
  },
  "language_info": {
   "codemirror_mode": {
    "name": "ipython",
    "version": 3
   },
   "file_extension": ".py",
   "mimetype": "text/x-python",
   "name": "python",
   "nbconvert_exporter": "python",
   "pygments_lexer": "ipython3",
   "version": "3.6.3"
  }
 },
 "nbformat": 4,
 "nbformat_minor": 2
}
