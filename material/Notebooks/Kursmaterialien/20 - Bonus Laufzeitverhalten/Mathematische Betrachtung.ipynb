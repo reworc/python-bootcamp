{
 "cells": [
  {
   "cell_type": "markdown",
   "metadata": {},
   "source": [
    "## Mathematische Betrachtung (O-Notation)\n",
    "\n",
    "Wenn wir eine Konstante $C$ finden können, so dass für ein genügend großes $n$ $g(n)$ nie größer als $C * f(n)$ ist, dann ist $g(n)$ in $f(n)$."
   ]
  },
  {
   "cell_type": "markdown",
   "metadata": {},
   "source": [
    "Beispiel: $g(n) = 10n^2 + 2n + 4$"
   ]
  },
  {
   "cell_type": "markdown",
   "metadata": {},
   "source": [
    "*Frage:*  Ist $g(n)$ in $O(n)$?\n",
    "\n",
    "- Wir setzen also $f(n)$ auf $n$\n",
    "- Gibt es jetzt ein $C$, so dass (ab einem gewissen n) gilt: $g(n) <= C * f(n)$, also $10n^2 + 2n + 4 <= C * n$?\n",
    "\n",
    "Da gibt es kein C."
   ]
  },
  {
   "cell_type": "code",
   "execution_count": null,
   "metadata": {
    "collapsed": true
   },
   "outputs": [],
   "source": []
  },
  {
   "cell_type": "code",
   "execution_count": null,
   "metadata": {
    "collapsed": true
   },
   "outputs": [],
   "source": [
    "14*"
   ]
  }
 ],
 "metadata": {
  "kernelspec": {
   "display_name": "Python 3",
   "language": "python",
   "name": "python3"
  },
  "language_info": {
   "codemirror_mode": {
    "name": "ipython",
    "version": 3
   },
   "file_extension": ".py",
   "mimetype": "text/x-python",
   "name": "python",
   "nbconvert_exporter": "python",
   "pygments_lexer": "ipython3",
   "version": "3.6.3"
  }
 },
 "nbformat": 4,
 "nbformat_minor": 2
}
