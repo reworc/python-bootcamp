{
 "cells": [
  {
   "cell_type": "code",
   "execution_count": 3,
   "metadata": {},
   "outputs": [
    {
     "name": "stdout",
     "output_type": "stream",
     "text": [
      "Franziska\n"
     ]
    }
   ],
   "source": [
    "students = [\"Max\", \"Monika\", \"Erik\", \"Franziska\"]\n",
    "print(students[-1])"
   ]
  },
  {
   "cell_type": "code",
   "execution_count": 5,
   "metadata": {},
   "outputs": [
    {
     "name": "stdout",
     "output_type": "stream",
     "text": [
      "['Max', 'Monika', 'Erik', 'Franziska', 'Moritz', 'Hänsel', 'Gretel', 'Moritz', 'Hänsel', 'Gretel']\n"
     ]
    }
   ],
   "source": [
    "students += [\"Moritz\", \"Hänsel\", \"Gretel\"]\n",
    "print(students)"
   ]
  },
  {
   "cell_type": "code",
   "execution_count": 6,
   "metadata": {},
   "outputs": [
    {
     "name": "stdout",
     "output_type": "stream",
     "text": [
      "['Max', 'Monika', 'Erik', 'Franziska', 'Moritz', 'Hänsel', 'Gretel', 'Moritz', 'Hänsel']\n"
     ]
    }
   ],
   "source": [
    "del students[-1]\n",
    "print(students)"
   ]
  },
  {
   "cell_type": "code",
   "execution_count": 11,
   "metadata": {},
   "outputs": [
    {
     "name": "stdout",
     "output_type": "stream",
     "text": [
      "[1, 1, 2, 3, 4, 5, 7]\n"
     ]
    }
   ],
   "source": [
    "numbers = [1,1,2,3,4,5,5,7]\n",
    "numbers.remove(5)\n",
    "print(numbers)"
   ]
  },
  {
   "cell_type": "code",
   "execution_count": 12,
   "metadata": {},
   "outputs": [
    {
     "name": "stdout",
     "output_type": "stream",
     "text": [
      "['Max', 'Monika']\n"
     ]
    }
   ],
   "source": [
    "first_elements = students[0:2]\n",
    "print(first_elements)"
   ]
  },
  {
   "cell_type": "code",
   "execution_count": 15,
   "metadata": {},
   "outputs": [
    {
     "name": "stdout",
     "output_type": "stream",
     "text": [
      "['Gretel', 'Moritz']\n"
     ]
    }
   ],
   "source": [
    "last_elements = students[-3:-1]\n",
    "print(last_elements)"
   ]
  },
  {
   "cell_type": "code",
   "execution_count": 24,
   "metadata": {},
   "outputs": [
    {
     "name": "stdout",
     "output_type": "stream",
     "text": [
      "[2, 3, 4]\n",
      "[5, 5]\n",
      "[5, 5]\n",
      "[1, 1, 2, 3, 4, 5, 5]\n",
      "[5, 5, 7]\n"
     ]
    }
   ],
   "source": [
    "numbers = [1,1,2,3,4,5,5,7]\n",
    "part = numbers[2:5]\n",
    "print(part)\n",
    "part = numbers[5: -1]\n",
    "print(part)\n",
    "part = numbers[-3: -1]\n",
    "print(part)\n",
    "part = numbers[: -1]\n",
    "print(part)\n",
    "part = numbers[5:]\n",
    "print(part)"
   ]
  },
  {
   "cell_type": "code",
   "execution_count": null,
   "metadata": {},
   "outputs": [],
   "source": []
  }
 ],
 "metadata": {
  "kernelspec": {
   "display_name": "Python 3",
   "language": "python",
   "name": "python3"
  },
  "language_info": {
   "codemirror_mode": {
    "name": "ipython",
    "version": 3
   },
   "file_extension": ".py",
   "mimetype": "text/x-python",
   "name": "python",
   "nbconvert_exporter": "python",
   "pygments_lexer": "ipython3",
   "version": "3.8.5"
  }
 },
 "nbformat": 4,
 "nbformat_minor": 4
}
