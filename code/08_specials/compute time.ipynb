{
 "cells": [
  {
   "cell_type": "code",
   "execution_count": 2,
   "id": "0a88dd1b",
   "metadata": {},
   "outputs": [],
   "source": [
    "from datetime import datetime, timedelta\n",
    "\n",
    "now = datetime.now()"
   ]
  },
  {
   "cell_type": "code",
   "execution_count": 4,
   "id": "708c9c14",
   "metadata": {},
   "outputs": [
    {
     "name": "stdout",
     "output_type": "stream",
     "text": [
      "2021-06-07 19:06:57.732681\n"
     ]
    }
   ],
   "source": [
    "delta = timedelta(days = 20)\n",
    "print(now + delta)"
   ]
  },
  {
   "cell_type": "code",
   "execution_count": 7,
   "id": "75cce418",
   "metadata": {},
   "outputs": [
    {
     "name": "stdout",
     "output_type": "stream",
     "text": [
      "2021-06-07 23:09:58.732681\n"
     ]
    }
   ],
   "source": [
    "delta = timedelta(days =20, hours = 4, minutes = 3, seconds = 1)\n",
    "print(now + delta)"
   ]
  },
  {
   "cell_type": "code",
   "execution_count": 9,
   "id": "d1ecde38",
   "metadata": {},
   "outputs": [
    {
     "name": "stdout",
     "output_type": "stream",
     "text": [
      "1366 days, 23:11:23.861662\n"
     ]
    }
   ],
   "source": [
    "day = datetime(2017,8,20,20,0,0)\n",
    "delta = datetime.now() - day\n",
    "\n",
    "print(delta)"
   ]
  },
  {
   "cell_type": "code",
   "execution_count": 12,
   "id": "25bcaffb",
   "metadata": {},
   "outputs": [
    {
     "name": "stdout",
     "output_type": "stream",
     "text": [
      "1366\n",
      "83483\n",
      "118105883.861662\n"
     ]
    }
   ],
   "source": [
    "print(delta.days)\n",
    "print(delta.seconds)\n",
    "print(delta.total_seconds())"
   ]
  },
  {
   "cell_type": "code",
   "execution_count": null,
   "id": "83da9db7",
   "metadata": {},
   "outputs": [],
   "source": []
  }
 ],
 "metadata": {
  "kernelspec": {
   "display_name": "Python 3",
   "language": "python",
   "name": "python3"
  },
  "language_info": {
   "codemirror_mode": {
    "name": "ipython",
    "version": 3
   },
   "file_extension": ".py",
   "mimetype": "text/x-python",
   "name": "python",
   "nbconvert_exporter": "python",
   "pygments_lexer": "ipython3",
   "version": "3.8.8"
  }
 },
 "nbformat": 4,
 "nbformat_minor": 5
}
